{
  "nbformat": 4,
  "nbformat_minor": 0,
  "metadata": {
    "colab": {
      "provenance": [],
      "toc_visible": true,
      "authorship_tag": "ABX9TyPOxwitdzmWbLh/J2TkyBUq",
      "include_colab_link": true
    },
    "kernelspec": {
      "name": "python3",
      "display_name": "Python 3"
    },
    "language_info": {
      "name": "python"
    }
  },
  "cells": [
    {
      "cell_type": "markdown",
      "metadata": {
        "id": "view-in-github",
        "colab_type": "text"
      },
      "source": [
        "<a href=\"https://colab.research.google.com/github/sim-mautner/cs1010-22t3/blob/main/lectures/04_collections.ipynb\" target=\"_parent\"><img src=\"https://colab.research.google.com/assets/colab-badge.svg\" alt=\"Open In Colab\"/></a>"
      ]
    },
    {
      "cell_type": "markdown",
      "metadata": {
        "id": "DZASYuPR5kI3"
      },
      "source": [
        "> Topic 3<br>\n",
        "> Python and Programming Fundamentals<br>\n",
        "> COMP1010<br>\n",
        "> Week 1-3\n",
        "\n",
        "> Topic 3.4<br>\n",
        "> Collections"
      ]
    },
    {
      "cell_type": "markdown",
      "metadata": {
        "id": "RaeMy89GiFLU"
      },
      "source": [
        "# 1 - Lists\n"
      ]
    },
    {
      "cell_type": "markdown",
      "metadata": {
        "id": "HUeCv4hAugmM"
      },
      "source": [
        "You have 4 students in the class. Create variables to store their project grades."
      ]
    },
    {
      "cell_type": "code",
      "metadata": {
        "id": "9aOzh4rdupjV"
      },
      "source": [
        "student_1_project_grade = 15\n",
        "student_2_project_grade = 18\n",
        "student_3_project_grade = 10\n",
        "student_4_project_grade = 12"
      ],
      "execution_count": 1,
      "outputs": []
    },
    {
      "cell_type": "markdown",
      "metadata": {
        "id": "k1M9jmPNup-v"
      },
      "source": [
        "What happens when you have 10 students in the class? Or 100? I hear there's at least one COMP course with 1000 students.\n",
        "\n",
        "Lists are:\n",
        "* Used to store multiple items in one variable\n",
        "* Created using square brackets (eg `my_list = []`)\n",
        "* Ordered\n",
        "* Changeable\n",
        "* Allow duplicate values\n",
        "\n",
        "As always (in Python), lists are indexed from 0."
      ]
    },
    {
      "cell_type": "markdown",
      "metadata": {
        "id": "bk5LeZx1w86r"
      },
      "source": [
        "Create a list. (Topic suggestions welcome in chat.)"
      ]
    },
    {
      "cell_type": "code",
      "metadata": {
        "id": "rg87Uv7GxB5N",
        "colab": {
          "base_uri": "https://localhost:8080/"
        },
        "outputId": "0131e539-c978-4a74-ab1c-43c62b884394"
      },
      "source": [
        "favourite_foods = []\n",
        "print(favourite_foods)"
      ],
      "execution_count": 7,
      "outputs": [
        {
          "output_type": "stream",
          "name": "stdout",
          "text": [
            "[]\n"
          ]
        }
      ]
    },
    {
      "cell_type": "markdown",
      "metadata": {
        "id": "LW4qFumaxCMB"
      },
      "source": [
        "Print the list."
      ]
    },
    {
      "cell_type": "code",
      "metadata": {
        "id": "z6dzDLfUxDro",
        "colab": {
          "base_uri": "https://localhost:8080/"
        },
        "outputId": "e45102bf-761d-4754-bee9-d307e8b844ad"
      },
      "source": [
        "print(favourite_foods)"
      ],
      "execution_count": 4,
      "outputs": [
        {
          "output_type": "stream",
          "name": "stdout",
          "text": [
            "[]\n"
          ]
        }
      ]
    },
    {
      "cell_type": "markdown",
      "metadata": {
        "id": "6f_HAVrixD6C"
      },
      "source": [
        "Append (add to the end) an element to the list. (And print it again.)"
      ]
    },
    {
      "cell_type": "code",
      "metadata": {
        "id": "XdekkgFAxHUC",
        "colab": {
          "base_uri": "https://localhost:8080/"
        },
        "outputId": "f7e23e22-67eb-4a3e-c995-0ffbd3e9c417"
      },
      "source": [
        "favourite_foods.append(\"Enchiladas\")\n",
        "print(favourite_foods)"
      ],
      "execution_count": 8,
      "outputs": [
        {
          "output_type": "stream",
          "name": "stdout",
          "text": [
            "['Enchiladas']\n"
          ]
        }
      ]
    },
    {
      "cell_type": "markdown",
      "metadata": {
        "id": "voyImQ32xHh9"
      },
      "source": [
        "Print out the length of the list."
      ]
    },
    {
      "cell_type": "code",
      "metadata": {
        "id": "9yIMJl71xOxc",
        "colab": {
          "base_uri": "https://localhost:8080/"
        },
        "outputId": "61a01587-d1c5-4de4-ca35-86037e8f5969"
      },
      "source": [
        "print(len(favourite_foods))"
      ],
      "execution_count": 9,
      "outputs": [
        {
          "output_type": "stream",
          "name": "stdout",
          "text": [
            "1\n"
          ]
        }
      ]
    },
    {
      "cell_type": "markdown",
      "metadata": {
        "id": "VkORFqtgxO_Z"
      },
      "source": [
        "Add some more elements to the list (using `append` and `insert`). Sort the list. (And print it again.)"
      ]
    },
    {
      "cell_type": "code",
      "metadata": {
        "id": "NOOvVMV3xVVo",
        "colab": {
          "base_uri": "https://localhost:8080/"
        },
        "outputId": "3bc561c7-fb07-4230-ffe0-219d52add866"
      },
      "source": [
        "favourite_foods.append(\"Pizza\")\n",
        "print(favourite_foods)"
      ],
      "execution_count": 10,
      "outputs": [
        {
          "output_type": "stream",
          "name": "stdout",
          "text": [
            "['Enchiladas', 'Pizza']\n"
          ]
        }
      ]
    },
    {
      "cell_type": "code",
      "source": [
        "favourite_foods.insert(0, \"Chocolate\")\n",
        "print(favourite_foods)"
      ],
      "metadata": {
        "colab": {
          "base_uri": "https://localhost:8080/"
        },
        "id": "Hjk03e_Qv1YY",
        "outputId": "8d87474d-2fb4-488d-88f6-13f9966e7e89"
      },
      "execution_count": 12,
      "outputs": [
        {
          "output_type": "stream",
          "name": "stdout",
          "text": [
            "['Chocolate', 'Enchiladas', 'Pizza']\n"
          ]
        }
      ]
    },
    {
      "cell_type": "code",
      "source": [
        "favourite_foods.insert(2, \"Banana\")\n",
        "print(favourite_foods)"
      ],
      "metadata": {
        "colab": {
          "base_uri": "https://localhost:8080/"
        },
        "id": "8lu5Zdj6wKYK",
        "outputId": "19280fbd-5353-4de4-d699-ebbb6b9a6f2f"
      },
      "execution_count": 13,
      "outputs": [
        {
          "output_type": "stream",
          "name": "stdout",
          "text": [
            "['Chocolate', 'Enchiladas', 'Banana', 'Pizza']\n"
          ]
        }
      ]
    },
    {
      "cell_type": "markdown",
      "metadata": {
        "id": "wCJ1e5zF2_aS"
      },
      "source": [
        "Can we sort the list backwards?"
      ]
    },
    {
      "cell_type": "code",
      "metadata": {
        "id": "ELI6p-973CNB",
        "colab": {
          "base_uri": "https://localhost:8080/"
        },
        "outputId": "d7d4c6cb-6ac4-4569-d8ac-25187ff8a942"
      },
      "source": [
        "favourite_foods.sort(reverse=True)\n",
        "print(favourite_foods)"
      ],
      "execution_count": 17,
      "outputs": [
        {
          "output_type": "stream",
          "name": "stdout",
          "text": [
            "['Pizza', 'Enchiladas', 'Chocolate', 'Banana']\n"
          ]
        }
      ]
    },
    {
      "cell_type": "markdown",
      "metadata": {
        "id": "PEcj09doxVho"
      },
      "source": [
        "Count the number of times an element occurs in the list."
      ]
    },
    {
      "cell_type": "code",
      "metadata": {
        "id": "VWcz8liqxbRx",
        "colab": {
          "base_uri": "https://localhost:8080/"
        },
        "outputId": "c02c00e1-bfe5-419d-e450-a26d9ae84d04"
      },
      "source": [
        "favourite_foods.append(\"Strawberries\")\n",
        "favourite_foods.append(\"Strawberries\")\n",
        "favourite_foods.append(\"Strawberries\")\n",
        "print(favourite_foods)"
      ],
      "execution_count": 18,
      "outputs": [
        {
          "output_type": "stream",
          "name": "stdout",
          "text": [
            "['Pizza', 'Enchiladas', 'Chocolate', 'Banana', 'Strawberries', 'Strawberries', 'Strawberries']\n"
          ]
        }
      ]
    },
    {
      "cell_type": "code",
      "source": [
        "num_strawberries = favourite_foods.count(\"Strawberries\")\n",
        "print(num_strawberries)"
      ],
      "metadata": {
        "colab": {
          "base_uri": "https://localhost:8080/"
        },
        "id": "3pc0AHGGwt8a",
        "outputId": "b19e40cc-149c-4bca-efad-3eacff04a8ed"
      },
      "execution_count": 19,
      "outputs": [
        {
          "output_type": "stream",
          "name": "stdout",
          "text": [
            "3\n"
          ]
        }
      ]
    },
    {
      "cell_type": "code",
      "source": [
        "print(favourite_foods.count(\"strawberries\"))"
      ],
      "metadata": {
        "colab": {
          "base_uri": "https://localhost:8080/"
        },
        "id": "cbVR5AZ2w3FR",
        "outputId": "b27c8daa-3331-45fd-bace-ab59b573a610"
      },
      "execution_count": 20,
      "outputs": [
        {
          "output_type": "stream",
          "name": "stdout",
          "text": [
            "0\n"
          ]
        }
      ]
    },
    {
      "cell_type": "code",
      "source": [
        "print(favourite_foods.count(\"Chocolate\"))"
      ],
      "metadata": {
        "colab": {
          "base_uri": "https://localhost:8080/"
        },
        "id": "CFIh8f24xATI",
        "outputId": "b7595d24-1667-4cb6-c409-44a3235c5148"
      },
      "execution_count": 21,
      "outputs": [
        {
          "output_type": "stream",
          "name": "stdout",
          "text": [
            "1\n"
          ]
        }
      ]
    },
    {
      "cell_type": "markdown",
      "metadata": {
        "id": "eQyuUSomxajH"
      },
      "source": [
        "Print out the element at index 2."
      ]
    },
    {
      "cell_type": "code",
      "metadata": {
        "id": "JKJUW7KSxfSn",
        "colab": {
          "base_uri": "https://localhost:8080/",
          "height": 36
        },
        "outputId": "94e35a50-c1e0-4b9d-abdf-523ece796b08"
      },
      "source": [
        "favourite_foods[2]"
      ],
      "execution_count": 23,
      "outputs": [
        {
          "output_type": "execute_result",
          "data": {
            "text/plain": [
              "'Chocolate'"
            ],
            "application/vnd.google.colaboratory.intrinsic+json": {
              "type": "string"
            }
          },
          "metadata": {},
          "execution_count": 23
        }
      ]
    },
    {
      "cell_type": "code",
      "source": [
        "print(favourite_foods[2])"
      ],
      "metadata": {
        "colab": {
          "base_uri": "https://localhost:8080/"
        },
        "id": "yAOVqQRaxXdo",
        "outputId": "4bb054f7-a1e1-49f2-8bd3-fcfb63efc4f1"
      },
      "execution_count": 24,
      "outputs": [
        {
          "output_type": "stream",
          "name": "stdout",
          "text": [
            "Chocolate\n"
          ]
        }
      ]
    },
    {
      "cell_type": "code",
      "source": [
        "print(len(favourite_foods))"
      ],
      "metadata": {
        "colab": {
          "base_uri": "https://localhost:8080/"
        },
        "id": "ewfNhJLxxddi",
        "outputId": "2fd27f5b-96c1-4fc9-e499-1dc267abd98a"
      },
      "execution_count": 25,
      "outputs": [
        {
          "output_type": "stream",
          "name": "stdout",
          "text": [
            "7\n"
          ]
        }
      ]
    },
    {
      "cell_type": "markdown",
      "metadata": {
        "id": "AVRzoOUsKFx-"
      },
      "source": [
        "What happens if we try to print (or access, or assign) an index which is larger than the length of the list?"
      ]
    },
    {
      "cell_type": "code",
      "metadata": {
        "id": "D6LgrhIbKMoz",
        "colab": {
          "base_uri": "https://localhost:8080/",
          "height": 168
        },
        "outputId": "7ecdbf25-aedc-4737-d6db-b6f9d2a83bdd"
      },
      "source": [
        "print(favourite_foods[7])\n",
        "\n",
        "# An IndexError occurs if (for example) your list has 7 elements (0,1,2,3,4,5,6)\n",
        "# and you try get element at index 7,8,9..."
      ],
      "execution_count": 26,
      "outputs": [
        {
          "output_type": "error",
          "ename": "IndexError",
          "evalue": "ignored",
          "traceback": [
            "\u001b[0;31m---------------------------------------------------------------------------\u001b[0m",
            "\u001b[0;31mIndexError\u001b[0m                                Traceback (most recent call last)",
            "\u001b[0;32m<ipython-input-26-8010434e1df2>\u001b[0m in \u001b[0;36m<module>\u001b[0;34m\u001b[0m\n\u001b[0;32m----> 1\u001b[0;31m \u001b[0mprint\u001b[0m\u001b[0;34m(\u001b[0m\u001b[0mfavourite_foods\u001b[0m\u001b[0;34m[\u001b[0m\u001b[0;36m7\u001b[0m\u001b[0;34m]\u001b[0m\u001b[0;34m)\u001b[0m\u001b[0;34m\u001b[0m\u001b[0;34m\u001b[0m\u001b[0m\n\u001b[0m",
            "\u001b[0;31mIndexError\u001b[0m: list index out of range"
          ]
        }
      ]
    },
    {
      "cell_type": "markdown",
      "metadata": {
        "id": "0c-uAIBoxe1H"
      },
      "source": [
        "Change the element at index 1 to be different. Print the list again."
      ]
    },
    {
      "cell_type": "code",
      "metadata": {
        "id": "0FQoRCYzxa3e",
        "colab": {
          "base_uri": "https://localhost:8080/"
        },
        "outputId": "34716b27-b874-4496-a888-99c8afaa2c10"
      },
      "source": [
        "print(favourite_foods)"
      ],
      "execution_count": 27,
      "outputs": [
        {
          "output_type": "stream",
          "name": "stdout",
          "text": [
            "['Pizza', 'Enchiladas', 'Chocolate', 'Banana', 'Strawberries', 'Strawberries', 'Strawberries']\n"
          ]
        }
      ]
    },
    {
      "cell_type": "code",
      "source": [
        "favourite_foods[1] = \"Sushi\"\n",
        "print(favourite_foods)"
      ],
      "metadata": {
        "colab": {
          "base_uri": "https://localhost:8080/"
        },
        "id": "Zz3dFTUjyFQL",
        "outputId": "444dbdff-2d7a-462e-f7a5-c49506561fd9"
      },
      "execution_count": 28,
      "outputs": [
        {
          "output_type": "stream",
          "name": "stdout",
          "text": [
            "['Pizza', 'Sushi', 'Chocolate', 'Banana', 'Strawberries', 'Strawberries', 'Strawberries']\n"
          ]
        }
      ]
    },
    {
      "cell_type": "markdown",
      "metadata": {
        "id": "iegUWlUmzZIe"
      },
      "source": [
        "Remove some elements from the list. (Removing by element, popping by index.) (Printing the list each time.) Remove by element and by index."
      ]
    },
    {
      "cell_type": "code",
      "metadata": {
        "id": "GFfXBgzyzyRu",
        "colab": {
          "base_uri": "https://localhost:8080/"
        },
        "outputId": "f499d177-9145-4c69-c19e-f6ae938dcbd0"
      },
      "source": [
        "favourite_foods.remove(\"Strawberries\")\n",
        "favourite_foods"
      ],
      "execution_count": 29,
      "outputs": [
        {
          "output_type": "execute_result",
          "data": {
            "text/plain": [
              "['Pizza', 'Sushi', 'Chocolate', 'Banana', 'Strawberries', 'Strawberries']"
            ]
          },
          "metadata": {},
          "execution_count": 29
        }
      ]
    },
    {
      "cell_type": "code",
      "source": [
        "favourite_foods.pop(2)\n",
        "favourite_foods"
      ],
      "metadata": {
        "colab": {
          "base_uri": "https://localhost:8080/"
        },
        "id": "YPWYF-pByj9S",
        "outputId": "317416c2-aa2d-4ebd-c3d9-f42d127d66ea"
      },
      "execution_count": 30,
      "outputs": [
        {
          "output_type": "execute_result",
          "data": {
            "text/plain": [
              "['Pizza', 'Sushi', 'Banana', 'Strawberries', 'Strawberries']"
            ]
          },
          "metadata": {},
          "execution_count": 30
        }
      ]
    },
    {
      "cell_type": "markdown",
      "metadata": {
        "id": "PkHrOJCGxlfS"
      },
      "source": [
        "Clear the list. (And print it again.)"
      ]
    },
    {
      "cell_type": "code",
      "metadata": {
        "id": "SrYAu8LFyeE8",
        "colab": {
          "base_uri": "https://localhost:8080/"
        },
        "outputId": "73030056-1dcb-49b1-8dad-a67e71f77b4a"
      },
      "source": [
        "favourite_foods.clear()\n",
        "favourite_foods"
      ],
      "execution_count": 31,
      "outputs": [
        {
          "output_type": "execute_result",
          "data": {
            "text/plain": [
              "[]"
            ]
          },
          "metadata": {},
          "execution_count": 31
        }
      ]
    },
    {
      "cell_type": "code",
      "source": [
        "# Question: can we switch places in the list even if we don't know what's inside the list?\n",
        "favourite_foods = [\"Pizza\", \"Sushi\", \"Banana\", \"Strawberries\"]\n",
        "# Task: Swap \"Pizza\" (index 0) with \"Strawberries\" (index 3)\n",
        "temp = favourite_foods[0]\n",
        "favourite_foods[0] = favourite_foods[3]\n",
        "print(favourite_foods)"
      ],
      "metadata": {
        "colab": {
          "base_uri": "https://localhost:8080/"
        },
        "id": "h7vYIJDyxJfD",
        "outputId": "ae176d7b-6e50-4b20-cd1f-0336fc642eb7"
      },
      "execution_count": 32,
      "outputs": [
        {
          "output_type": "stream",
          "name": "stdout",
          "text": [
            "['Strawberries', 'Sushi', 'Banana', 'Strawberries']\n"
          ]
        }
      ]
    },
    {
      "cell_type": "code",
      "source": [
        "print(temp)"
      ],
      "metadata": {
        "colab": {
          "base_uri": "https://localhost:8080/"
        },
        "id": "q1LWBZ2TzfP4",
        "outputId": "bd98488b-ea1e-4752-a84a-c211a32f62e9"
      },
      "execution_count": 33,
      "outputs": [
        {
          "output_type": "stream",
          "name": "stdout",
          "text": [
            "Pizza\n"
          ]
        }
      ]
    },
    {
      "cell_type": "code",
      "source": [
        "favourite_foods[3] = temp\n",
        "print(favourite_foods)"
      ],
      "metadata": {
        "colab": {
          "base_uri": "https://localhost:8080/"
        },
        "id": "eKxEdNy7zhTq",
        "outputId": "92de0d54-ae5f-4d83-907c-d556433c371f"
      },
      "execution_count": 34,
      "outputs": [
        {
          "output_type": "stream",
          "name": "stdout",
          "text": [
            "['Strawberries', 'Sushi', 'Banana', 'Pizza']\n"
          ]
        }
      ]
    },
    {
      "cell_type": "code",
      "source": [
        "print(favourite_foods[-1])"
      ],
      "metadata": {
        "colab": {
          "base_uri": "https://localhost:8080/"
        },
        "id": "Y8_hVwBX1mM5",
        "outputId": "9a8088be-d0dc-45bd-92ab-d947194fec3f"
      },
      "execution_count": 45,
      "outputs": [
        {
          "output_type": "stream",
          "name": "stdout",
          "text": [
            "Pizza\n"
          ]
        }
      ]
    },
    {
      "cell_type": "markdown",
      "metadata": {
        "id": "HdDMv-Dmjplx"
      },
      "source": [
        "Lists are also handy in some other situations. For example, can we use use a list to simplify our [months of the year](#eg_months_cell) example?\n"
      ]
    },
    {
      "cell_type": "code",
      "metadata": {
        "id": "uBQZ-otplXhV"
      },
      "source": [
        "def months_of_year(num):\n",
        "    # check num is an int\n",
        "    if str(type(num)) == \"<class 'int'>\":\n",
        "        index_to_get = num-1\n",
        "\n",
        "        # check index is in range\n",
        "        if index_to_get < 0 or index_to_get > 11:\n",
        "            return \"\"\n",
        "\n",
        "        months = [\"Jan\", \"Feb\", \"Mar\", \"Apr\", \"May\", \"Jun\",\n",
        "                \"Jul\", \"Aug\", \"Sep\", \"Oct\", \"Nov\", \"Dec\"]\n",
        "        return months[index_to_get]\n",
        "    else:\n",
        "        return \"\"\n"
      ],
      "execution_count": 47,
      "outputs": []
    },
    {
      "cell_type": "code",
      "metadata": {
        "id": "DWDwbR85lX1t"
      },
      "source": [
        "assert months_of_year(1) == \"Jan\"\n",
        "assert months_of_year(2) == \"Feb\"\n",
        "assert months_of_year(3) == \"Mar\"\n",
        "assert months_of_year(4) == \"Apr\"\n",
        "assert months_of_year(5) == \"May\"\n",
        "assert months_of_year(6) == \"Jun\"\n",
        "assert months_of_year(7) == \"Jul\"\n",
        "assert months_of_year(8) == \"Aug\"\n",
        "assert months_of_year(9) == \"Sep\"\n",
        "assert months_of_year(10) == \"Oct\"\n",
        "assert months_of_year(11) == \"Nov\"\n",
        "assert months_of_year(12) == \"Dec\"\n",
        "assert months_of_year(\"1\") == \"\"\n",
        "assert months_of_year(\"Jan\") == \"\"\n",
        "assert months_of_year(0) == \"\"\n",
        "assert months_of_year(13) == \"\""
      ],
      "execution_count": 48,
      "outputs": []
    },
    {
      "cell_type": "code",
      "source": [
        "months_of_year(0)"
      ],
      "metadata": {
        "colab": {
          "base_uri": "https://localhost:8080/",
          "height": 36
        },
        "id": "dy78JOV51p7d",
        "outputId": "ea2c7852-cabc-49ac-f96c-d55c17a330ac"
      },
      "execution_count": 46,
      "outputs": [
        {
          "output_type": "execute_result",
          "data": {
            "text/plain": [
              "'Dec'"
            ],
            "application/vnd.google.colaboratory.intrinsic+json": {
              "type": "string"
            }
          },
          "metadata": {},
          "execution_count": 46
        }
      ]
    },
    {
      "cell_type": "markdown",
      "metadata": {
        "id": "n1h5s_Nf2Ghn"
      },
      "source": [
        "Can we find out if an element is in the list? (Without searching through the list one by one.)"
      ]
    },
    {
      "cell_type": "code",
      "metadata": {
        "id": "h6FE_Ydu2aLl",
        "colab": {
          "base_uri": "https://localhost:8080/"
        },
        "outputId": "d6f4316c-cfc3-4fdb-b320-ed6f3a156ea6"
      },
      "source": [
        "favourite_foods"
      ],
      "execution_count": 49,
      "outputs": [
        {
          "output_type": "execute_result",
          "data": {
            "text/plain": [
              "['Strawberries', 'Sushi', 'Banana', 'Pizza']"
            ]
          },
          "metadata": {},
          "execution_count": 49
        }
      ]
    },
    {
      "cell_type": "code",
      "source": [
        "\"Strawberries\" in favourite_foods"
      ],
      "metadata": {
        "colab": {
          "base_uri": "https://localhost:8080/"
        },
        "id": "14t48_Zy2FFQ",
        "outputId": "6b431587-bdd7-4887-985a-86c10b90f28d"
      },
      "execution_count": 50,
      "outputs": [
        {
          "output_type": "execute_result",
          "data": {
            "text/plain": [
              "True"
            ]
          },
          "metadata": {},
          "execution_count": 50
        }
      ]
    },
    {
      "cell_type": "code",
      "source": [
        "if \"Chocolate\" not in favourite_foods:\n",
        "    favourite_foods.append(\"Chocolate\")"
      ],
      "metadata": {
        "id": "J2ps0iPl2IwU"
      },
      "execution_count": null,
      "outputs": []
    },
    {
      "cell_type": "markdown",
      "metadata": {
        "id": "6Cne1Az42sQP"
      },
      "source": [
        "Can we loop through the list one by one?"
      ]
    },
    {
      "cell_type": "code",
      "metadata": {
        "id": "Qw3_2DVz25oL",
        "colab": {
          "base_uri": "https://localhost:8080/"
        },
        "outputId": "9f65d3e7-7601-4086-ebae-aa340599015c"
      },
      "source": [
        "for food in favourite_foods:\n",
        "    print(f\"I like {food}.\")"
      ],
      "execution_count": 52,
      "outputs": [
        {
          "output_type": "stream",
          "name": "stdout",
          "text": [
            "I like Strawberries.\n",
            "I like Sushi.\n",
            "I like Banana.\n",
            "I like Pizza.\n"
          ]
        }
      ]
    },
    {
      "cell_type": "markdown",
      "metadata": {
        "id": "y8G0n6U43Mls"
      },
      "source": [
        "Can we join two lists together? (aka What happens when we + two lists?)"
      ]
    },
    {
      "cell_type": "code",
      "metadata": {
        "id": "xKc-75uZ3RuI",
        "colab": {
          "base_uri": "https://localhost:8080/"
        },
        "outputId": "0806b462-247e-4df2-b2bc-6344360918dc"
      },
      "source": [
        "almost_as_good_foods = [\"Fermented tofu\", \"Lasagna\", \"Frogs legs\", \"Pie\"]\n",
        "great_foods = favourite_foods + almost_as_good_foods\n",
        "print(great_foods)"
      ],
      "execution_count": 53,
      "outputs": [
        {
          "output_type": "stream",
          "name": "stdout",
          "text": [
            "['Strawberries', 'Sushi', 'Banana', 'Pizza', 'Fermented tofu', 'Lasagna', 'Frogs legs', 'Pie']\n"
          ]
        }
      ]
    },
    {
      "cell_type": "markdown",
      "metadata": {
        "id": "YvnK2MFF4fCj"
      },
      "source": [
        "Can lists contain lists? How would we access it? How would we print it?"
      ]
    },
    {
      "cell_type": "code",
      "metadata": {
        "id": "rQn3E3zK4mmx"
      },
      "source": [
        "foods = [\n",
        "    favourite_foods,\n",
        "    almost_as_good_foods,\n",
        "    [\"Vegemite icecream\", \"Coriander\", \"Olives\"]\n",
        "]"
      ],
      "execution_count": 54,
      "outputs": []
    },
    {
      "cell_type": "code",
      "source": [
        "print(foods)"
      ],
      "metadata": {
        "colab": {
          "base_uri": "https://localhost:8080/"
        },
        "id": "i2SgGoz33evB",
        "outputId": "fbd9d42f-3c46-4109-8a54-4f35c2e20a90"
      },
      "execution_count": 55,
      "outputs": [
        {
          "output_type": "stream",
          "name": "stdout",
          "text": [
            "[['Strawberries', 'Sushi', 'Banana', 'Pizza'], ['Fermented tofu', 'Lasagna', 'Frogs legs', 'Pie'], ['Vegemite icecream', 'Coriander', 'Olives']]\n"
          ]
        }
      ]
    },
    {
      "cell_type": "code",
      "source": [
        "for list_of_foods in foods:\n",
        "    print(list_of_foods)"
      ],
      "metadata": {
        "colab": {
          "base_uri": "https://localhost:8080/"
        },
        "id": "slBom7nN3iUh",
        "outputId": "f9807b94-5117-46e9-c9be-b045984a0891"
      },
      "execution_count": 56,
      "outputs": [
        {
          "output_type": "stream",
          "name": "stdout",
          "text": [
            "['Strawberries', 'Sushi', 'Banana', 'Pizza']\n",
            "['Fermented tofu', 'Lasagna', 'Frogs legs', 'Pie']\n",
            "['Vegemite icecream', 'Coriander', 'Olives']\n"
          ]
        }
      ]
    },
    {
      "cell_type": "code",
      "source": [
        "foods[1]"
      ],
      "metadata": {
        "colab": {
          "base_uri": "https://localhost:8080/"
        },
        "id": "JjfJxw3d3nNR",
        "outputId": "4d3461d9-871d-44b2-dcd2-cbbed7b343cb"
      },
      "execution_count": 57,
      "outputs": [
        {
          "output_type": "execute_result",
          "data": {
            "text/plain": [
              "['Fermented tofu', 'Lasagna', 'Frogs legs', 'Pie']"
            ]
          },
          "metadata": {},
          "execution_count": 57
        }
      ]
    },
    {
      "cell_type": "code",
      "source": [
        "foods[1][3]"
      ],
      "metadata": {
        "colab": {
          "base_uri": "https://localhost:8080/",
          "height": 36
        },
        "id": "VLhvnpky3sI2",
        "outputId": "d5f3eec4-f4e2-4455-fee0-2482fa786f2b"
      },
      "execution_count": 58,
      "outputs": [
        {
          "output_type": "execute_result",
          "data": {
            "text/plain": [
              "'Pie'"
            ],
            "application/vnd.google.colaboratory.intrinsic+json": {
              "type": "string"
            }
          },
          "metadata": {},
          "execution_count": 58
        }
      ]
    },
    {
      "cell_type": "code",
      "source": [
        "# Question: can we create a list with 2 or more values like name and height at the same time or we need to create 2 lists\n",
        "\n",
        "names_and_heights = [\n",
        "    [\"Sim\", 150],\n",
        "    [\"Arisa\", 145],\n",
        "    [\"Dee\", 155]\n",
        "]\n",
        "\n",
        "for sub_list in names_and_heights:\n",
        "    print(sub_list[1])\n",
        "\n",
        "names_and_heights = [\n",
        "    [\"Sim\", \"Arisa\", \"Dee\"],\n",
        "    [150, 145, 155]\n",
        "]"
      ],
      "metadata": {
        "colab": {
          "base_uri": "https://localhost:8080/"
        },
        "id": "gEYoPefn4R9o",
        "outputId": "4b89bebc-e155-4f69-a677-cd4911d9a0f3"
      },
      "execution_count": 59,
      "outputs": [
        {
          "output_type": "stream",
          "name": "stdout",
          "text": [
            "150\n",
            "145\n",
            "155\n"
          ]
        }
      ]
    },
    {
      "cell_type": "markdown",
      "metadata": {
        "id": "I0HJz1_StemU"
      },
      "source": [
        "Could we make the game Tic Tac Toe?"
      ]
    },
    {
      "cell_type": "code",
      "metadata": {
        "id": "QnG3Tp6ptg58",
        "colab": {
          "base_uri": "https://localhost:8080/",
          "height": 1000
        },
        "outputId": "ddfd9d33-f269-44c8-dc8f-3c3140a57f9e"
      },
      "source": [
        "def print_board(board):\n",
        "    print(\"  A B C\")\n",
        "    row_up_to = 1\n",
        "    for row in board:\n",
        "        # Print out the row we are up to\n",
        "        print(row_up_to, end=\" \")\n",
        "        for cell in row:\n",
        "            print(cell, end=\" \")\n",
        "        # After the row, go onto the next line\n",
        "        print()\n",
        "        # Update the row number we are up to\n",
        "        row_up_to = row_up_to + 1\n",
        "\n",
        "\n",
        "# Computer program starts here\n",
        "\n",
        "# Use a list of lists to create the board\n",
        "board = [\n",
        "    ['-', '-', '-'],\n",
        "    ['-', '-', '-'],\n",
        "    ['-', '-', '-']\n",
        "]\n",
        "\n",
        "print_board(board)\n",
        "\n",
        "player_turn = 'X'\n",
        "\n",
        "# TODO Put more of the game code into functions. (NTH)\n",
        "# Eg convert_input_to_index, switch_player\n",
        "\n",
        "# TODO FIXME 'while True' means the game will never \"end\".\n",
        "    # I should fix this so that it stops when the game is over.\n",
        "    # Either with a full board, or if someone gets 3 in a row. (MVP)\n",
        "while True: \n",
        "    col_letter = input(\"Enter column: \")\n",
        "    row_number = input(\"Enter row: \")\n",
        "\n",
        "    # TODO check that col_letter is A,B or C, check that row_number is 1,2 or 3. (NTH)\n",
        "\n",
        "    # Convert the user's input, into the indexs into the board\n",
        "    if col_letter == \"A\":\n",
        "        col = 0\n",
        "    elif col_letter == \"B\":\n",
        "        col = 1\n",
        "    elif col_letter == \"C\":\n",
        "        col = 2\n",
        "\n",
        "    if row_number == \"1\":\n",
        "        row = 0\n",
        "    elif row_number == \"2\":\n",
        "        row = 1\n",
        "    elif row_number == \"3\":\n",
        "        row = 2\n",
        "\n",
        "    # TODO check the selected cell is not already taken (NTH)\n",
        "\n",
        "    board[row][col] = player_turn\n",
        "\n",
        "    print_board(board)\n",
        "\n",
        "    # Switch player\n",
        "    if player_turn == 'X':\n",
        "        player_turn = 'O'\n",
        "    else:\n",
        "        player_turn = 'X'\n",
        "\n"
      ],
      "execution_count": 77,
      "outputs": [
        {
          "output_type": "stream",
          "name": "stdout",
          "text": [
            "  A B C\n",
            "1 - - - \n",
            "2 - - - \n",
            "3 - - - \n",
            "Enter column: A\n",
            "Enter row: 3\n",
            "  A B C\n",
            "1 - - - \n",
            "2 - - - \n",
            "3 X - - \n",
            "Enter column: B\n",
            "Enter row: 2\n",
            "  A B C\n",
            "1 - - - \n",
            "2 - O - \n",
            "3 X - - \n",
            "Enter column: C\n",
            "Enter row: 3\n",
            "  A B C\n",
            "1 - - - \n",
            "2 - O - \n",
            "3 X - X \n",
            "Enter column: B\n",
            "Enter row: 3\n",
            "  A B C\n",
            "1 - - - \n",
            "2 - O - \n",
            "3 X O X \n",
            "Enter column: C\n",
            "Enter row: 1\n",
            "  A B C\n",
            "1 - - X \n",
            "2 - O - \n",
            "3 X O X \n",
            "Enter column: B\n",
            "Enter row: 1\n",
            "  A B C\n",
            "1 - O X \n",
            "2 - O - \n",
            "3 X O X \n"
          ]
        },
        {
          "output_type": "error",
          "ename": "KeyboardInterrupt",
          "evalue": "ignored",
          "traceback": [
            "\u001b[0;31m---------------------------------------------------------------------------\u001b[0m",
            "\u001b[0;31mKeyboardInterrupt\u001b[0m                         Traceback (most recent call last)",
            "\u001b[0;32m<ipython-input-77-5790eefa778f>\u001b[0m in \u001b[0;36m<module>\u001b[0;34m\u001b[0m\n\u001b[1;32m     29\u001b[0m \u001b[0;31m# I should fix this so that it stops when the game is over. (MVP)\u001b[0m\u001b[0;34m\u001b[0m\u001b[0;34m\u001b[0m\u001b[0;34m\u001b[0m\u001b[0m\n\u001b[1;32m     30\u001b[0m \u001b[0;32mwhile\u001b[0m \u001b[0;32mTrue\u001b[0m\u001b[0;34m:\u001b[0m\u001b[0;34m\u001b[0m\u001b[0;34m\u001b[0m\u001b[0m\n\u001b[0;32m---> 31\u001b[0;31m     \u001b[0mcol_letter\u001b[0m \u001b[0;34m=\u001b[0m \u001b[0minput\u001b[0m\u001b[0;34m(\u001b[0m\u001b[0;34m\"Enter column: \"\u001b[0m\u001b[0;34m)\u001b[0m\u001b[0;34m\u001b[0m\u001b[0;34m\u001b[0m\u001b[0m\n\u001b[0m\u001b[1;32m     32\u001b[0m     \u001b[0mrow_number\u001b[0m \u001b[0;34m=\u001b[0m \u001b[0minput\u001b[0m\u001b[0;34m(\u001b[0m\u001b[0;34m\"Enter row: \"\u001b[0m\u001b[0;34m)\u001b[0m\u001b[0;34m\u001b[0m\u001b[0;34m\u001b[0m\u001b[0m\n\u001b[1;32m     33\u001b[0m \u001b[0;34m\u001b[0m\u001b[0m\n",
            "\u001b[0;32m/usr/local/lib/python3.7/dist-packages/ipykernel/kernelbase.py\u001b[0m in \u001b[0;36mraw_input\u001b[0;34m(self, prompt)\u001b[0m\n\u001b[1;32m    861\u001b[0m             \u001b[0mself\u001b[0m\u001b[0;34m.\u001b[0m\u001b[0m_parent_ident\u001b[0m\u001b[0;34m,\u001b[0m\u001b[0;34m\u001b[0m\u001b[0;34m\u001b[0m\u001b[0m\n\u001b[1;32m    862\u001b[0m             \u001b[0mself\u001b[0m\u001b[0;34m.\u001b[0m\u001b[0m_parent_header\u001b[0m\u001b[0;34m,\u001b[0m\u001b[0;34m\u001b[0m\u001b[0;34m\u001b[0m\u001b[0m\n\u001b[0;32m--> 863\u001b[0;31m             \u001b[0mpassword\u001b[0m\u001b[0;34m=\u001b[0m\u001b[0;32mFalse\u001b[0m\u001b[0;34m,\u001b[0m\u001b[0;34m\u001b[0m\u001b[0;34m\u001b[0m\u001b[0m\n\u001b[0m\u001b[1;32m    864\u001b[0m         )\n\u001b[1;32m    865\u001b[0m \u001b[0;34m\u001b[0m\u001b[0m\n",
            "\u001b[0;32m/usr/local/lib/python3.7/dist-packages/ipykernel/kernelbase.py\u001b[0m in \u001b[0;36m_input_request\u001b[0;34m(self, prompt, ident, parent, password)\u001b[0m\n\u001b[1;32m    902\u001b[0m             \u001b[0;32mexcept\u001b[0m \u001b[0mKeyboardInterrupt\u001b[0m\u001b[0;34m:\u001b[0m\u001b[0;34m\u001b[0m\u001b[0;34m\u001b[0m\u001b[0m\n\u001b[1;32m    903\u001b[0m                 \u001b[0;31m# re-raise KeyboardInterrupt, to truncate traceback\u001b[0m\u001b[0;34m\u001b[0m\u001b[0;34m\u001b[0m\u001b[0;34m\u001b[0m\u001b[0m\n\u001b[0;32m--> 904\u001b[0;31m                 \u001b[0;32mraise\u001b[0m \u001b[0mKeyboardInterrupt\u001b[0m\u001b[0;34m(\u001b[0m\u001b[0;34m\"Interrupted by user\"\u001b[0m\u001b[0;34m)\u001b[0m \u001b[0;32mfrom\u001b[0m \u001b[0;32mNone\u001b[0m\u001b[0;34m\u001b[0m\u001b[0;34m\u001b[0m\u001b[0m\n\u001b[0m\u001b[1;32m    905\u001b[0m             \u001b[0;32mexcept\u001b[0m \u001b[0mException\u001b[0m \u001b[0;32mas\u001b[0m \u001b[0me\u001b[0m\u001b[0;34m:\u001b[0m\u001b[0;34m\u001b[0m\u001b[0;34m\u001b[0m\u001b[0m\n\u001b[1;32m    906\u001b[0m                 \u001b[0mself\u001b[0m\u001b[0;34m.\u001b[0m\u001b[0mlog\u001b[0m\u001b[0;34m.\u001b[0m\u001b[0mwarning\u001b[0m\u001b[0;34m(\u001b[0m\u001b[0;34m\"Invalid Message:\"\u001b[0m\u001b[0;34m,\u001b[0m \u001b[0mexc_info\u001b[0m\u001b[0;34m=\u001b[0m\u001b[0;32mTrue\u001b[0m\u001b[0;34m)\u001b[0m\u001b[0;34m\u001b[0m\u001b[0;34m\u001b[0m\u001b[0m\n",
            "\u001b[0;31mKeyboardInterrupt\u001b[0m: Interrupted by user"
          ]
        }
      ]
    },
    {
      "cell_type": "markdown",
      "metadata": {
        "id": "_8aek9zMtjWc"
      },
      "source": [
        "How can we show that the order matters in a list?"
      ]
    },
    {
      "cell_type": "code",
      "metadata": {
        "id": "WoSMPbgstn6F"
      },
      "source": [],
      "execution_count": null,
      "outputs": []
    },
    {
      "cell_type": "markdown",
      "metadata": {
        "id": "6bFZtlVK567M"
      },
      "source": [
        "# 2 - A warning about loops\n",
        "\n",
        "Changing a list (or other collection), while looping over it, can cause unwanted results."
      ]
    },
    {
      "cell_type": "code",
      "metadata": {
        "id": "cRMvNKmA6PDy"
      },
      "source": [],
      "execution_count": null,
      "outputs": []
    },
    {
      "cell_type": "markdown",
      "metadata": {
        "id": "eZqAulgMz2dj"
      },
      "source": [
        "# 3 - Dictionaries"
      ]
    },
    {
      "cell_type": "markdown",
      "metadata": {
        "id": "kbq1or8az6w6"
      },
      "source": [
        "In the real world, dictionaries let us look up *words* and find *meanings*.\n",
        "In Python, dictionaries let us look up *keys* and find *values*.\n",
        "\n",
        "Like a list, but with meaningful keys instead of indexes 0, 1, 2..."
      ]
    },
    {
      "cell_type": "code",
      "source": [
        "# Question: can we create a list with 2 or more values like name and height at the same time or we need to create 2 lists\n"
      ],
      "metadata": {
        "id": "bd87ZoKf496F"
      },
      "execution_count": null,
      "outputs": []
    },
    {
      "cell_type": "markdown",
      "metadata": {
        "id": "U5BF1VcLWLmn"
      },
      "source": [
        "Create a dictionary mapping classes to tutor or lecturer."
      ]
    },
    {
      "cell_type": "code",
      "metadata": {
        "id": "Rxuh3oyZ8Nc0"
      },
      "source": [],
      "execution_count": null,
      "outputs": []
    },
    {
      "cell_type": "markdown",
      "metadata": {
        "id": "qNXUH1KZ8NtW"
      },
      "source": [
        "Which tutor teaches H12A?"
      ]
    },
    {
      "cell_type": "code",
      "metadata": {
        "id": "Wh9N6fL28PRq"
      },
      "source": [],
      "execution_count": null,
      "outputs": []
    },
    {
      "cell_type": "markdown",
      "metadata": {
        "id": "c5VR6-uiWZkg"
      },
      "source": [
        "Can we add another class to the dictionary?"
      ]
    },
    {
      "cell_type": "code",
      "metadata": {
        "id": "4vGiJTroWeL1"
      },
      "source": [],
      "execution_count": null,
      "outputs": []
    },
    {
      "cell_type": "markdown",
      "metadata": {
        "id": "y5LAY7lZWeYn"
      },
      "source": [
        "Can we change which tutor takes a class?"
      ]
    },
    {
      "cell_type": "code",
      "metadata": {
        "id": "UqDcwA4NWkxf"
      },
      "source": [],
      "execution_count": null,
      "outputs": []
    },
    {
      "cell_type": "markdown",
      "metadata": {
        "id": "F9DTDyLJWlCf"
      },
      "source": [
        "Two tutors have swapped classes. How would we go about updating the dictionary?"
      ]
    },
    {
      "cell_type": "code",
      "metadata": {
        "id": "hHthwW21XDii"
      },
      "source": [],
      "execution_count": null,
      "outputs": []
    },
    {
      "cell_type": "markdown",
      "metadata": {
        "id": "QUZ92cv8nvsp"
      },
      "source": [
        "Obfuscation\n",
        "\n",
        "Is there another way to solve this problem?\n",
        "\n",
        "> Oh no, somaona hes dona somathing tarribla to my writing. Thay'va sweppad eround tha lattar 'e' end tha lattar 'a'"
      ]
    },
    {
      "cell_type": "code",
      "metadata": {
        "id": "WsIgYPzan2vi"
      },
      "source": [],
      "execution_count": null,
      "outputs": []
    },
    {
      "cell_type": "markdown",
      "metadata": {
        "id": "EqBIuOzqXDzR"
      },
      "source": [
        "Dictionaries are:\n",
        "* ordered*\n",
        "* changeable\n",
        "* does not allow duplicates\n",
        "\n",
        "Note: As of Python version 3.7, dictionaries are ordered. In Python 3.6 and earlier, dictionaries are unordered."
      ]
    },
    {
      "cell_type": "markdown",
      "metadata": {
        "id": "kD2fo7X4RDhd"
      },
      "source": [
        "What happens if we try and put a duplicate entry into a dictionary?"
      ]
    },
    {
      "cell_type": "code",
      "metadata": {
        "id": "04XcJENJRJbO"
      },
      "source": [],
      "execution_count": null,
      "outputs": []
    },
    {
      "cell_type": "markdown",
      "metadata": {
        "id": "xVUUQjG_LrMY"
      },
      "source": [
        "Can we loop through a dictionary and print out all the keys?"
      ]
    },
    {
      "cell_type": "code",
      "metadata": {
        "id": "_wuW-cauLv9I"
      },
      "source": [],
      "execution_count": null,
      "outputs": []
    },
    {
      "cell_type": "markdown",
      "metadata": {
        "id": "Sfl92YK4DsTx"
      },
      "source": [
        "Using what we know about dictionaries, how could we use our loop through the keys, to access all the information?"
      ]
    },
    {
      "cell_type": "code",
      "metadata": {
        "id": "bFCxkpreDwfr"
      },
      "source": [],
      "execution_count": null,
      "outputs": []
    },
    {
      "cell_type": "markdown",
      "metadata": {
        "id": "6Jj7Wm6JDw4G"
      },
      "source": [
        "Is there a more concise way to display/use all the data in a dictionary?"
      ]
    },
    {
      "cell_type": "code",
      "metadata": {
        "id": "gnZxPebCD2vs"
      },
      "source": [],
      "execution_count": null,
      "outputs": []
    },
    {
      "cell_type": "markdown",
      "metadata": {
        "id": "q0j70CbVjKhY"
      },
      "source": [
        "### Text Analysis Using Dictionaries: E-mail Example"
      ]
    },
    {
      "cell_type": "markdown",
      "metadata": {
        "id": "iFehM0xKi36H"
      },
      "source": [
        "This list contains the e-mail addresses of 4 different students."
      ]
    },
    {
      "cell_type": "code",
      "metadata": {
        "id": "oNTU0_U8jTgi"
      },
      "source": [
        "emails = [\"z1234567@student.unsw.edu.au\", \"z7654321@unsw.edu.au\", \"z7891234@ad.unsw.edu.au\", \"z1357924@student.unsw.edu.au\"]"
      ],
      "execution_count": null,
      "outputs": []
    },
    {
      "cell_type": "markdown",
      "metadata": {
        "id": "1skhA71ajJ1C"
      },
      "source": [
        "Can we build a dictionary containing the Zids as keys and the e-mail addresses as values?"
      ]
    },
    {
      "cell_type": "code",
      "metadata": {
        "id": "LEk-D_rQjbTT"
      },
      "source": [],
      "execution_count": null,
      "outputs": []
    },
    {
      "cell_type": "markdown",
      "metadata": {
        "id": "blFe2sqUjcRM"
      },
      "source": [
        "How many students prefer each e-mail domain?"
      ]
    },
    {
      "cell_type": "code",
      "metadata": {
        "id": "8R_2JN1QjeXw"
      },
      "source": [],
      "execution_count": null,
      "outputs": []
    },
    {
      "cell_type": "markdown",
      "metadata": {
        "id": "tkI40jPCjfwA"
      },
      "source": [
        "Can we group students by their preferred e-mail domain?"
      ]
    },
    {
      "cell_type": "code",
      "metadata": {
        "id": "OAQoSRkGjil0"
      },
      "source": [],
      "execution_count": null,
      "outputs": []
    },
    {
      "cell_type": "markdown",
      "metadata": {
        "id": "8fO_afpfD8Pi"
      },
      "source": [
        "# 4 - Tuples"
      ]
    },
    {
      "cell_type": "markdown",
      "metadata": {
        "id": "fOcEmYZIEFpZ"
      },
      "source": [
        "Tuples are:\n",
        "* ordered\n",
        "* unchangeable\n",
        "* allows duplicates"
      ]
    },
    {
      "cell_type": "markdown",
      "metadata": {
        "id": "me3_0Y_iJ2ml"
      },
      "source": [
        "In Python, Tuples are like lists, with on key difference. They are immutable. That means they cannot be changed after they have been created. In this way, they are similar to strings. They are created (defined) using the () (rather than [ ] like in lists and { } like in dictionaries)."
      ]
    },
    {
      "cell_type": "markdown",
      "metadata": {
        "id": "sBcTABFaEUcJ"
      },
      "source": [
        "Can we use a tuple to return several values from a function?\n",
        "\n",
        "When visiting a theme park, many rides require you to be a certain height before you can ride them.\n",
        "\n",
        "At a specific park there are:\n",
        "\n",
        "* Red Riders: 85-105cm tall. They have access to 9 rides.\n",
        "* Green Riders: 106-131cm tall. They have access to 21 rides.\n",
        "* Yellow Riders: 132cm and taller. They have access to 27 rides.\n",
        "\n",
        "Write a function which takes in the user's height in cm (as a parameter) and returns a string (\"Red Rider\", \"Green Rider\" or \"Yellow Rider\") and the number of rides they have access to.\n",
        "\n",
        "Write a function which asks the user for their height and then calls the function, and displays the results."
      ]
    },
    {
      "cell_type": "code",
      "metadata": {
        "id": "3T_M753vGoVT"
      },
      "source": [],
      "execution_count": null,
      "outputs": []
    },
    {
      "cell_type": "markdown",
      "metadata": {
        "id": "ZHzbbO4lkdyh"
      },
      "source": [
        "In COMP1010, we are not going to use Tuples in more detail than this. If you are interested in further exploring this topic I recommend:\n",
        "* [W3Schools Tuples](https://www.w3schools.com/python/python_tuples.asp)\n",
        "* [Tutorials Point Tuples](https://www.tutorialspoint.com/python/python_tuples.htm)"
      ]
    },
    {
      "cell_type": "markdown",
      "metadata": {
        "id": "dshwJXJennss"
      },
      "source": [
        "# 5 - Sets\n",
        "\n",
        "We aren't going to cover Python Sets in COMP1010. If you are interested in this form of collection, I recommend:\n",
        "* [W3Schools Sets](https://www.w3schools.com/python/python_sets.asp)"
      ]
    },
    {
      "cell_type": "markdown",
      "metadata": {
        "id": "JEat-wKwBNdb"
      },
      "source": [
        "# 6 - Complex Data Structures"
      ]
    },
    {
      "cell_type": "markdown",
      "metadata": {
        "id": "cFRa9VbmAtZ2"
      },
      "source": [
        "## 1 - House Hunting\n",
        "\n",
        "The following cell defines a list of houses for sale. It includes their address, number of bedrooms and bathrooms, price, and features (garage, pool, granny flat, etc.)"
      ]
    },
    {
      "cell_type": "code",
      "metadata": {
        "id": "DyUHH3tCBQSa"
      },
      "source": [
        "houses = [\n",
        "    { \n",
        "        \"address\": \"42 Wallaby Way, Sydney\", \n",
        "        \"bedrooms\": 3, \n",
        "        \"bathrooms\": 2, \n",
        "        \"features\": [\"garage\", \"pool\"] \n",
        "    },\n",
        "    { \n",
        "        \"address\": \"123 Fake Street, Mosman\", \n",
        "        \"bedrooms\": 6, \n",
        "        \"bathrooms\": 3, \n",
        "        \"features\": [\"pool\", \"granny flat\"]     \n",
        "    },\n",
        "    { \n",
        "        \"address\": \"1 High Street, Kensington\", \n",
        "        \"bedrooms\": 2, \n",
        "        \"bathrooms\": 1, \n",
        "        \"features\": [] \n",
        "    },\n",
        "    { \n",
        "        \"address\": \"109 Kirribilli Ave, Kirribilli\", \n",
        "        \"bedrooms\": 10, \n",
        "        \"bathrooms\": 7, \n",
        "        \"features\": [\"garage\", \"pool\", \"wine cellar\", \"tennis court\"] \n",
        "    }\n",
        "]"
      ],
      "execution_count": null,
      "outputs": []
    },
    {
      "cell_type": "markdown",
      "metadata": {
        "id": "m_5f5IK_BSti"
      },
      "source": [
        "\n",
        "Write the function `find_houses(houses, bedrooms, bathrooms, features)` that returns a list of the addresses of all the houses with at least the given number of bedrooms and bathrooms and at least the given list of features.\n",
        "\n",
        "**NOTE:** Don't assume the list of houses or set of possible features is constrained to what is written above. Your function should still work if new houses were added to the above list."
      ]
    },
    {
      "cell_type": "code",
      "metadata": {
        "id": "zMpFumJHB7QS"
      },
      "source": [],
      "execution_count": null,
      "outputs": []
    },
    {
      "cell_type": "markdown",
      "metadata": {
        "id": "YzC7pPTXBmrA"
      },
      "source": [
        "Use this cell to test your function:"
      ]
    },
    {
      "cell_type": "code",
      "metadata": {
        "id": "ToutMRHgBpSJ"
      },
      "source": [
        "assert find_houses(houses, 3, 1, [\"garage\"]) == [\"42 Wallaby Way, Sydney\", \"109 Kirribilli Ave, Kirribilli\"]\n",
        "assert find_houses(houses, 6, 4, []) == [\"109 Kirribilli Ave, Kirribilli\"]\n",
        "assert find_houses(houses, 1, 1, [\"granny flat\"]) == [\"123 Fake Street, Mosman\"]"
      ],
      "execution_count": null,
      "outputs": []
    },
    {
      "cell_type": "markdown",
      "metadata": {
        "id": "E_NZ3hENDnVP"
      },
      "source": [
        "# 7 - Data Types Revisited: NoneType\n",
        "\n",
        "`None` is a special value in Python we can use to represent values that are unknown.\n",
        "\n",
        "**Important Info**:\n",
        "\n",
        "* The type of `None` is `NoneType`. It is the only value of that type.\n",
        "* Python has special support for dealing with `None` values in `if` statements."
      ]
    },
    {
      "cell_type": "markdown",
      "metadata": {
        "id": "scgOs3yeDtti"
      },
      "source": [
        "Write a function `maximum(numbers)` that finds the maximum number in a list."
      ]
    },
    {
      "cell_type": "code",
      "metadata": {
        "id": "EkigXAXzDvyf"
      },
      "source": [],
      "execution_count": null,
      "outputs": []
    },
    {
      "cell_type": "markdown",
      "metadata": {
        "id": "Y27MaZHDvUF_"
      },
      "source": [
        "Copy the table from topic 3.1.6: Data Types here, and fill in an extra row for the `NoneType` data type."
      ]
    }
  ]
}