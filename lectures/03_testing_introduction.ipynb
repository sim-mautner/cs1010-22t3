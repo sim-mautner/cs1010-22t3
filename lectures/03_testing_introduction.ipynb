{
  "nbformat": 4,
  "nbformat_minor": 0,
  "metadata": {
    "colab": {
      "provenance": [],
      "toc_visible": true,
      "authorship_tag": "ABX9TyOKy0/ybi5Ow4g1Js/jS1F3",
      "include_colab_link": true
    },
    "kernelspec": {
      "name": "python3",
      "display_name": "Python 3"
    },
    "language_info": {
      "name": "python"
    }
  },
  "cells": [
    {
      "cell_type": "markdown",
      "metadata": {
        "id": "view-in-github",
        "colab_type": "text"
      },
      "source": [
        "<a href=\"https://colab.research.google.com/github/sim-mautner/cs1010-22t3/blob/main/lectures/03_testing_introduction.ipynb\" target=\"_parent\"><img src=\"https://colab.research.google.com/assets/colab-badge.svg\" alt=\"Open In Colab\"/></a>"
      ]
    },
    {
      "cell_type": "markdown",
      "metadata": {
        "id": "8y3btaKHE4ag"
      },
      "source": [
        "> Topic 3<br>\n",
        "> Python and Programming Fundamentals<br>\n",
        "> COMP1010<br>\n",
        "> Week 1-3\n",
        "\n",
        "> Topic 3.3<br>\n",
        "> Testing (an introduction)"
      ]
    },
    {
      "cell_type": "markdown",
      "metadata": {
        "id": "8MmJvOZTi3PV"
      },
      "source": [
        "# 1 - Assert\n",
        "\n",
        "When testing if a piece of code works, we need to check all the different pathways our execution could take, and that each one produces the expected result.\n",
        "\n",
        "`assert(condition)`"
      ]
    },
    {
      "cell_type": "markdown",
      "metadata": {
        "id": "kP7wjZyvji7H"
      },
      "source": [
        "What does it look like when an `assert` passes?"
      ]
    },
    {
      "cell_type": "code",
      "metadata": {
        "id": "kWMcPKYAjl6B"
      },
      "source": [
        "assert True"
      ],
      "execution_count": 1,
      "outputs": []
    },
    {
      "cell_type": "code",
      "source": [
        "assert(True)"
      ],
      "metadata": {
        "id": "yrtpGxOUksbl"
      },
      "execution_count": 2,
      "outputs": []
    },
    {
      "cell_type": "code",
      "source": [
        "assert 5 == 5"
      ],
      "metadata": {
        "id": "TtMPEECGk3Ge"
      },
      "execution_count": 5,
      "outputs": []
    },
    {
      "cell_type": "markdown",
      "metadata": {
        "id": "P29RUnTkjmNU"
      },
      "source": [
        "What does it look like when an `assert` fails?"
      ]
    },
    {
      "cell_type": "code",
      "source": [
        "assert False"
      ],
      "metadata": {
        "colab": {
          "base_uri": "https://localhost:8080/",
          "height": 168
        },
        "id": "pjjTpO9Jkwcn",
        "outputId": "42783684-793f-4072-d577-63fca425014c"
      },
      "execution_count": 4,
      "outputs": [
        {
          "output_type": "error",
          "ename": "AssertionError",
          "evalue": "ignored",
          "traceback": [
            "\u001b[0;31m---------------------------------------------------------------------------\u001b[0m",
            "\u001b[0;31mAssertionError\u001b[0m                            Traceback (most recent call last)",
            "\u001b[0;32m<ipython-input-4-a871fdc9ebee>\u001b[0m in \u001b[0;36m<module>\u001b[0;34m\u001b[0m\n\u001b[0;32m----> 1\u001b[0;31m \u001b[0;32massert\u001b[0m \u001b[0;32mFalse\u001b[0m\u001b[0;34m\u001b[0m\u001b[0;34m\u001b[0m\u001b[0m\n\u001b[0m",
            "\u001b[0;31mAssertionError\u001b[0m: "
          ]
        }
      ]
    },
    {
      "cell_type": "code",
      "source": [
        "assert 1 == 2"
      ],
      "metadata": {
        "colab": {
          "base_uri": "https://localhost:8080/",
          "height": 168
        },
        "id": "i4dXzTZCk5R9",
        "outputId": "61732dfa-b596-4c9e-ce9d-313cc4222f11"
      },
      "execution_count": 6,
      "outputs": [
        {
          "output_type": "error",
          "ename": "AssertionError",
          "evalue": "ignored",
          "traceback": [
            "\u001b[0;31m---------------------------------------------------------------------------\u001b[0m",
            "\u001b[0;31mAssertionError\u001b[0m                            Traceback (most recent call last)",
            "\u001b[0;32m<ipython-input-6-ce781a32d075>\u001b[0m in \u001b[0;36m<module>\u001b[0;34m\u001b[0m\n\u001b[0;32m----> 1\u001b[0;31m \u001b[0;32massert\u001b[0m \u001b[0;36m1\u001b[0m \u001b[0;34m==\u001b[0m \u001b[0;36m2\u001b[0m\u001b[0;34m\u001b[0m\u001b[0;34m\u001b[0m\u001b[0m\n\u001b[0m",
            "\u001b[0;31mAssertionError\u001b[0m: "
          ]
        }
      ]
    },
    {
      "cell_type": "markdown",
      "metadata": {
        "id": "6zQkNeE_jKW2"
      },
      "source": [
        "Write some tests for your my_len() function you wrote above."
      ]
    },
    {
      "cell_type": "code",
      "metadata": {
        "id": "PaPLzML0jHLH"
      },
      "source": [
        "def my_len(text):\n",
        "    count = 0 # how many characters I've seen so far\n",
        "    for character in text:\n",
        "        #print(character)\n",
        "        count = count + 1\n",
        "    return count"
      ],
      "execution_count": 7,
      "outputs": []
    },
    {
      "cell_type": "code",
      "source": [
        "print(my_len(\"hello\"))"
      ],
      "metadata": {
        "colab": {
          "base_uri": "https://localhost:8080/"
        },
        "id": "6LR10fOslKtk",
        "outputId": "bd832cab-7804-4b83-a13c-e10e1f1e1165"
      },
      "execution_count": 8,
      "outputs": [
        {
          "output_type": "stream",
          "name": "stdout",
          "text": [
            "5\n"
          ]
        }
      ]
    },
    {
      "cell_type": "code",
      "source": [
        "assert my_len(\"hello\") == 5\n",
        "assert my_len(\"\") == 0\n",
        "assert my_len(\" !~popcorn\") == 10\n",
        "assert my_len(\"5\") == 1"
      ],
      "metadata": {
        "id": "u5LZ8g8XlQXH"
      },
      "execution_count": 14,
      "outputs": []
    },
    {
      "cell_type": "markdown",
      "metadata": {
        "id": "9eLH9VV1kS_Z"
      },
      "source": [
        "# 2 - Test-Driven Development (TDD)"
      ]
    },
    {
      "cell_type": "markdown",
      "metadata": {
        "id": "L0ryHmlfkDPY"
      },
      "source": [
        "Test-Driven Development (TDD) is an approach to programming whereby the requirements or specification of the project are converted into test cases before the software is written."
      ]
    },
    {
      "cell_type": "markdown",
      "metadata": {
        "id": "b0dIARVrj972"
      },
      "source": [
        "<a name='eg_months_cell'></a>\n",
        "### Example: Months of the Year\n",
        "\n",
        "Consider a function which takes in a number and returns a string with the month of the year that that number corresponds to.\n",
        "\n",
        "1. What cases need to be considered?\n",
        "2. Write some tests which cover these cases.\n",
        "3. Implement the function."
      ]
    },
    {
      "cell_type": "markdown",
      "metadata": {
        "id": "r7z_xzGM3LwB"
      },
      "source": [
        "**Cases to consider:**\n",
        "* 1 --> Jan\n",
        "* 2 --> Feb\n",
        "* 3 --> Mar\n",
        "* ... and so on ...\n",
        "* 12 --> Dec\n",
        "* \"1\" --> \"\"\n",
        "* -1 --> \"\"\n",
        "* 0 --> \"\"\n",
        "* 13 --> \"\""
      ]
    },
    {
      "cell_type": "code",
      "metadata": {
        "id": "DWDwbR85lX1t"
      },
      "source": [
        "assert months_of_year(1) == \"Jan\"\n",
        "assert months_of_year(2) == \"Feb\"\n",
        "assert months_of_year(3) == \"Mar\"\n",
        "assert months_of_year(4) == \"Apr\"\n",
        "assert months_of_year(5) == \"May\"\n",
        "assert months_of_year(6) == \"Jun\"\n",
        "assert months_of_year(7) == \"Jul\"\n",
        "assert months_of_year(8) == \"Aug\"\n",
        "assert months_of_year(9) == \"Sep\"\n",
        "assert months_of_year(10) == \"Oct\"\n",
        "assert months_of_year(11) == \"Nov\"\n",
        "assert months_of_year(12) == \"Dec\"\n",
        "assert months_of_year(\"1\") == \"\"\n",
        "assert months_of_year(\"Jan\") == \"\"\n",
        "assert months_of_year(0) == \"\"\n",
        "assert months_of_year(13) == \"\""
      ],
      "execution_count": 22,
      "outputs": []
    },
    {
      "cell_type": "code",
      "source": [
        "print(months_of_year(9))"
      ],
      "metadata": {
        "colab": {
          "base_uri": "https://localhost:8080/"
        },
        "id": "DuSjHDoGojrZ",
        "outputId": "87d34616-2319-4fec-9674-e3f3b8917d9e"
      },
      "execution_count": 20,
      "outputs": [
        {
          "output_type": "stream",
          "name": "stdout",
          "text": [
            "Sept\n"
          ]
        }
      ]
    },
    {
      "cell_type": "code",
      "metadata": {
        "id": "uBQZ-otplXhV"
      },
      "source": [
        "def months_of_year(num):\n",
        "    if num == 1:\n",
        "        return \"Jan\"\n",
        "    elif num == 2:\n",
        "        return \"Feb\"\n",
        "    elif num == 3:\n",
        "        return \"Mar\"\n",
        "    elif num == 4:\n",
        "        return \"Apr\"\n",
        "    elif num == 5:\n",
        "        return \"May\"\n",
        "    elif num == 6:\n",
        "        return \"Jun\"\n",
        "    elif num == 7:\n",
        "        return \"Jul\"\n",
        "    elif num == 8:\n",
        "        return \"Aug\"\n",
        "    elif num == 9:\n",
        "        return \"Sep\"\n",
        "    elif num == 10:\n",
        "        return \"Oct\"\n",
        "    elif num == 11:\n",
        "        return \"Nov\"\n",
        "    elif num == 12:\n",
        "        return \"Dec\"\n",
        "    else:\n",
        "        return \"\""
      ],
      "execution_count": 21,
      "outputs": []
    },
    {
      "cell_type": "markdown",
      "metadata": {
        "id": "w4PYn6-vx3if"
      },
      "source": [
        "### Example: Ready to Lecture (part 2)\n",
        "\n",
        "Consider the [Getting Ready to Lecture](#eg_ready_to_lecture_cell) example.\n",
        "\n",
        "1. Write tests to check whether or not your code was correct.\n",
        "2. Convert your code into a function which takes in booleans and returns a string.\n",
        "3. Run your tests on your code.\n",
        "\n",
        "This example makes it clear, how much easier it is to test every possible condition, rather than changing the value of the variables with the code."
      ]
    },
    {
      "cell_type": "code",
      "source": [
        "# on_time, bed_made, water_bottle\n",
        "assert ready_to_lecture(True, True, True) == \"Ready to lecture.\"\n",
        "assert ready_to_lecture(True, True, False) == \"Go get your water bottle.\"\n",
        "assert ready_to_lecture(True, False, True) == \"Go make your bed.\"\n",
        "assert ready_to_lecture(True, False, False) == \"Go make your bed and get your water bottle.\"\n",
        "assert ready_to_lecture(False, True, True) == \"Ready to lecture.\"\n",
        "assert ready_to_lecture(False, True, False) == \"No time to get ready. Start lecturing now.\"\n",
        "assert ready_to_lecture(False, False, True) == \"No time to get ready. Start lecturing now.\"\n",
        "assert ready_to_lecture(False, False, False) == \"No time to get ready. Start lecturing now.\""
      ],
      "metadata": {
        "id": "DjvRVePVp2Ux"
      },
      "execution_count": 37,
      "outputs": []
    },
    {
      "cell_type": "code",
      "source": [
        "print(f\"Result is: {ready_to_lecture(True, True, False)}\")"
      ],
      "metadata": {
        "colab": {
          "base_uri": "https://localhost:8080/"
        },
        "id": "qlDmtHIJrVXB",
        "outputId": "f23ff5bf-02de-4795-c36c-7622d3783ea3"
      },
      "execution_count": 39,
      "outputs": [
        {
          "output_type": "stream",
          "name": "stdout",
          "text": [
            "Result is: Go get your water bottle.\n"
          ]
        }
      ]
    },
    {
      "cell_type": "code",
      "metadata": {
        "id": "bdpdieZYrAIz"
      },
      "source": [
        "def ready_to_lecture(on_time, bed_made, water_bottle):\n",
        "    # 1. bed_made --> True... check water_bottle -> True... --> Ready to lecture\n",
        "    # 2. on_time --> True\n",
        "    #           check water bottle (get it if not there)\n",
        "    #           check bed made (make it if not made)\n",
        "    # 3. not on time\n",
        "    #         --> No time to get ready. Start lecturing now.\n",
        "\n",
        "    if bed_made and water_bottle:\n",
        "        return \"Ready to lecture.\"\n",
        "    if on_time:\n",
        "        if not bed_made and not water_bottle:\n",
        "            return \"Go make your bed and get your water bottle.\"\n",
        "        if not bed_made:\n",
        "            return \"Go make your bed.\"\n",
        "        if not water_bottle:\n",
        "            return \"Go get your water bottle.\"\n",
        "    elif not (bed_made and water_bottle):\n",
        "        return \"No time to get ready. Start lecturing now.\""
      ],
      "execution_count": 34,
      "outputs": []
    },
    {
      "cell_type": "code",
      "metadata": {
        "id": "mWrenjVay-_n"
      },
      "source": [],
      "execution_count": null,
      "outputs": []
    }
  ]
}