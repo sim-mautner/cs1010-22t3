{
  "nbformat": 4,
  "nbformat_minor": 0,
  "metadata": {
    "colab": {
      "name": "02-control-flow.ipynb",
      "provenance": [],
      "toc_visible": true,
      "authorship_tag": "ABX9TyPV7wreCubIYZobKMZDtAWB",
      "include_colab_link": true
    },
    "kernelspec": {
      "name": "python3",
      "display_name": "Python 3"
    },
    "language_info": {
      "name": "python"
    }
  },
  "cells": [
    {
      "cell_type": "markdown",
      "metadata": {
        "id": "view-in-github",
        "colab_type": "text"
      },
      "source": [
        "<a href=\"https://colab.research.google.com/github/sim-mautner/cs1010-22t3/blob/main/lectures/03-python-and-programming-fundamentals/02-control-flow.ipynb\" target=\"_parent\"><img src=\"https://colab.research.google.com/assets/colab-badge.svg\" alt=\"Open In Colab\"/></a>"
      ]
    },
    {
      "cell_type": "markdown",
      "metadata": {
        "id": "DZASYuPR5kI3"
      },
      "source": [
        "> Topic 3<br>\n",
        "> Python and Programming Fundamentals<br>\n",
        "> COMP1010<br>\n",
        "> Week 1-3\n",
        "\n",
        "> Topic 3.2<br>\n",
        "> Control Flow"
      ]
    },
    {
      "cell_type": "markdown",
      "metadata": {
        "id": "0368ktSurcTf"
      },
      "source": [
        "# 2.1 - Conditionals"
      ]
    },
    {
      "cell_type": "markdown",
      "metadata": {
        "id": "o_7e49apRLPS"
      },
      "source": [
        "## if\n",
        "\n",
        "```\n",
        "if condition:\n",
        "  code_to_execute_if_condition_is_true\n",
        "```\n",
        "\n",
        "\n",
        "\n",
        "What happens if the condition is `True`?"
      ]
    },
    {
      "cell_type": "code",
      "metadata": {
        "id": "ujDJWU7hrJTI",
        "colab": {
          "base_uri": "https://localhost:8080/"
        },
        "outputId": "b5b5abc0-d05e-4d57-a1f1-1491139a652b"
      },
      "source": [
        "if True:\n",
        "    print(\"Hello\")"
      ],
      "execution_count": null,
      "outputs": [
        {
          "output_type": "stream",
          "name": "stdout",
          "text": [
            "Hello\n"
          ]
        }
      ]
    },
    {
      "cell_type": "markdown",
      "metadata": {
        "id": "Ls5OhTbhr3gN"
      },
      "source": [
        "What happens if the condition is `False`?"
      ]
    },
    {
      "cell_type": "code",
      "metadata": {
        "id": "-3JVINAbr6YR"
      },
      "source": [
        "if False:\n",
        "    print(\"Nope.\")"
      ],
      "execution_count": null,
      "outputs": []
    },
    {
      "cell_type": "markdown",
      "metadata": {
        "id": "0rLJlS15s1TQ"
      },
      "source": [
        "Can we have multiple lines of code to execute?"
      ]
    },
    {
      "cell_type": "code",
      "metadata": {
        "id": "5GVhji6AtRmj",
        "colab": {
          "base_uri": "https://localhost:8080/"
        },
        "outputId": "4b528ea1-d263-4e1f-c910-ee8e9050bc93"
      },
      "source": [
        "x = 3\n",
        "if False:\n",
        "    print(\"Hello.\")\n",
        "    x = 17 + 32\n",
        "print(x)\n",
        "print(\"This should always execute.\")"
      ],
      "execution_count": null,
      "outputs": [
        {
          "output_type": "stream",
          "name": "stdout",
          "text": [
            "3\n",
            "This should always execute.\n"
          ]
        }
      ]
    },
    {
      "cell_type": "markdown",
      "metadata": {
        "id": "qSDrVBLHr8tU"
      },
      "source": [
        "Does the indentation matter?"
      ]
    },
    {
      "cell_type": "code",
      "metadata": {
        "id": "x6kpZjREtRW-"
      },
      "source": [
        "# Yes. See above."
      ],
      "execution_count": null,
      "outputs": []
    },
    {
      "cell_type": "markdown",
      "metadata": {
        "id": "693LDbk6uCQY"
      },
      "source": [
        "## Testing Variables and Creating Conditions"
      ]
    },
    {
      "cell_type": "code",
      "source": [
        "x = 5 # Let x be equal to 5. Set the value of x to be 5.\n",
        "x == 5 # Is x equal to 5? (Returns True or False.)"
      ],
      "metadata": {
        "id": "FHhDFpbBEGnR"
      },
      "execution_count": null,
      "outputs": []
    },
    {
      "cell_type": "markdown",
      "metadata": {
        "id": "nt-AoOUruhyK"
      },
      "source": [
        "Can we create a variable with a boolean to test?\n",
        "\n",
        "* `not`"
      ]
    },
    {
      "cell_type": "code",
      "metadata": {
        "colab": {
          "base_uri": "https://localhost:8080/"
        },
        "id": "TTS8JF7uuoZp",
        "outputId": "5b1aaaed-906d-4f20-974e-304d8774980b"
      },
      "source": [],
      "execution_count": null,
      "outputs": [
        {
          "output_type": "stream",
          "text": [
            "here\n"
          ],
          "name": "stdout"
        }
      ]
    },
    {
      "cell_type": "markdown",
      "metadata": {
        "id": "A-DTcDRpuoqG"
      },
      "source": [
        "Can we create an integer to test?\n",
        "\n",
        "* ==\n",
        "* !=\n",
        "* \\>\n",
        "* <\n",
        "* <=\n",
        "* \\>="
      ]
    },
    {
      "cell_type": "code",
      "metadata": {
        "id": "Kci8FX_juhX9"
      },
      "source": [],
      "execution_count": null,
      "outputs": []
    },
    {
      "cell_type": "markdown",
      "metadata": {
        "id": "hh8PwWRmwLYH"
      },
      "source": [
        "Can we create a string to test?\n",
        "\n",
        "* ==\n",
        "* !="
      ]
    },
    {
      "cell_type": "code",
      "metadata": {
        "id": "bzgFtvsWwN4H"
      },
      "source": [
        "\n"
      ],
      "execution_count": null,
      "outputs": []
    },
    {
      "cell_type": "markdown",
      "metadata": {
        "id": "vL6uZVZjwt6d"
      },
      "source": [
        "What happens if we use > and < on strings?"
      ]
    },
    {
      "cell_type": "code",
      "metadata": {
        "id": "IO7URFOJww7b"
      },
      "source": [],
      "execution_count": null,
      "outputs": []
    },
    {
      "cell_type": "markdown",
      "metadata": {
        "id": "MK7ri_tSt05T"
      },
      "source": [
        "## else\n",
        "\n",
        "```\n",
        "if condition:\n",
        "  code_if_true\n",
        "else:\n",
        "  code_if_false\n",
        "```\n",
        "\n"
      ]
    },
    {
      "cell_type": "markdown",
      "metadata": {
        "id": "Dty2p3QOyP7V"
      },
      "source": [
        "## elif\n",
        "\n",
        "```\n",
        "if condition:\n",
        "  code_if_true\n",
        "elif condition_2:\n",
        "  code_if_condition1_false_and_condition2_true \n",
        "else:\n",
        "  code_if_false\n",
        "```\n",
        "\n",
        "* You must have exactly one `if`.\n",
        "* You may have 0 or more (as many as you'd like) `elif`.\n",
        "* You may have 0 or 1 `else`.\n",
        "* The order matters. Both for `if`, `elif`, `else` and for the order of the `elif`s."
      ]
    },
    {
      "cell_type": "code",
      "source": [
        "a = 120\n",
        "if a < 5:\n",
        "  print(\"less than 5\")\n",
        "elif a < 10:\n",
        "  print(\"greater than or equal to 5, but less than 10\")\n",
        "elif a < 15:\n",
        "  print(\"greater than or equal to 10, but less than 15\")\n",
        "elif a < 20:\n",
        "  print(\"greater than or equal to 15, but less than 20\")\n",
        "else:\n",
        "  print(\"a must be greater than or equal to 20\")"
      ],
      "metadata": {
        "id": "l79aqlsPFbbF"
      },
      "execution_count": null,
      "outputs": []
    },
    {
      "cell_type": "markdown",
      "metadata": {
        "id": "335MMrGxBpup"
      },
      "source": [
        "<a name='eg_ready_to_lecture_cell'></a>\n",
        "## Example: Getting Ready to Lecture Online\n",
        "\n",
        "Lecturing from home means that I have my bed in the background of my webcam. This means that each day, before I lecture, I prefer to make my bed.\n",
        "\n",
        "(a) Write some code which:\n",
        "1. Declares a boolean `bed_made` to be `True` or `False`.\n",
        "2. Depending on the value of `bed_made`, display \"Go make your bed.\" or \"Ready to lecture.\""
      ]
    },
    {
      "cell_type": "code",
      "metadata": {
        "id": "2kooY55xCCv4"
      },
      "source": [
        "bed_made = True\n",
        "if bed_made == True:\n",
        "    print(\"Ready to lecture.\")\n",
        "else:\n",
        "    print(\"Go make your bed.\")"
      ],
      "execution_count": null,
      "outputs": []
    },
    {
      "cell_type": "code",
      "metadata": {
        "colab": {
          "base_uri": "https://localhost:8080/"
        },
        "id": "laeyiqc1G6Jh",
        "outputId": "3ae39153-4b5c-4d70-e4ac-53f1a98ce708"
      },
      "source": [
        "bed_made = True\n",
        "if bed_made:\n",
        "    print(\"Ready to lecture.\")\n",
        "else:\n",
        "    print(\"Go make your bed.\")"
      ],
      "execution_count": null,
      "outputs": [
        {
          "output_type": "stream",
          "name": "stdout",
          "text": [
            "Ready to lecture.\n"
          ]
        }
      ]
    },
    {
      "cell_type": "code",
      "metadata": {
        "outputId": "cf763840-8e66-4dc3-feff-6138e5f7ab7a",
        "colab": {
          "base_uri": "https://localhost:8080/"
        },
        "id": "AwAiDFegG9of"
      },
      "source": [
        "bed_made = False\n",
        "if bed_made:\n",
        "    print(\"Ready to lecture.\")\n",
        "if not bed_made:\n",
        "    print(\"Go make your bed.\")"
      ],
      "execution_count": null,
      "outputs": [
        {
          "output_type": "stream",
          "name": "stdout",
          "text": [
            "Go make your bed.\n"
          ]
        }
      ]
    },
    {
      "cell_type": "code",
      "metadata": {
        "outputId": "3ae39153-4b5c-4d70-e4ac-53f1a98ce708",
        "colab": {
          "base_uri": "https://localhost:8080/"
        },
        "id": "GAWgyFq7HE1H"
      },
      "source": [
        "bed_made = True\n",
        "if not bed_made:\n",
        "    print(\"Go make your bed.\")\n",
        "else:\n",
        "    print(\"Ready to lecture.\")"
      ],
      "execution_count": null,
      "outputs": [
        {
          "output_type": "stream",
          "name": "stdout",
          "text": [
            "Ready to lecture.\n"
          ]
        }
      ]
    },
    {
      "cell_type": "markdown",
      "metadata": {
        "id": "-7TjfhgZCDD5"
      },
      "source": [
        "(Continuing from previous question...)\n",
        "\n",
        "(b) Some days, I'm running late and I don't have time to make my bed, and end up giving lectures even if my bed is still unmade.\n",
        "\n",
        "Copy the code from the previous question and:\n",
        "1. Add a boolean `on_time` to be `True` or `False`.\n",
        "2. Depending on the values of `bed_made` and `on_time` display \"Go make your bed.\", \"Ready to lecture.\" or \"No time to make your bed. Go lecture anyway.\""
      ]
    },
    {
      "cell_type": "code",
      "metadata": {
        "colab": {
          "base_uri": "https://localhost:8080/"
        },
        "outputId": "86080145-ad51-4326-f6ce-b6f1065a85c9",
        "id": "jaZk-o8wHQ4M"
      },
      "source": [
        "bed_made = True\n",
        "on_time = False\n",
        "if bed_made:\n",
        "    print(\"Ready to lecture.\")\n",
        "elif on_time:\n",
        "    print(\"Go make your bed.\")\n",
        "else:\n",
        "    print(\"No time to make your bed. Go lecture anyway.\")"
      ],
      "execution_count": null,
      "outputs": [
        {
          "output_type": "stream",
          "name": "stdout",
          "text": [
            "Ready to lecture.\n"
          ]
        }
      ]
    },
    {
      "cell_type": "markdown",
      "metadata": {
        "id": "bvqyuwoDCiU5"
      },
      "source": [
        "(c) Can you implement the above code in a different way? (Enter at least 4 different ways of implementing the code.)\n",
        "\n"
      ]
    },
    {
      "cell_type": "code",
      "metadata": {
        "id": "3EUy369TClD4",
        "colab": {
          "base_uri": "https://localhost:8080/"
        },
        "outputId": "0b7a8e80-de02-41e6-f8ad-8f64de2c62dd"
      },
      "source": [
        "bed_made = True\n",
        "on_time = True\n",
        "if not bed_made and not on_time:\n",
        "    print(\"No time to make your bed. Go lecture anyway.\")\n",
        "if bed_made:\n",
        "    print(\"Ready to lecture.\")\n",
        "if on_time and not bed_made:\n",
        "    print(\"Go make your bed.\")"
      ],
      "execution_count": null,
      "outputs": [
        {
          "output_type": "stream",
          "name": "stdout",
          "text": [
            "Ready to lecture.\n"
          ]
        }
      ]
    },
    {
      "cell_type": "code",
      "source": [
        "bed_made = False\n",
        "on_time = False\n",
        "\n",
        "if on_time:\n",
        "    if bed_made:\n",
        "        print(\"Ready to lecture\")\n",
        "    else:\n",
        "        print(\"Go make your bed.\")\n",
        "else:\n",
        "    if bed_made:\n",
        "        print(\"Ready to lecture.\")\n",
        "    else:\n",
        "        print(\"No time to make your bed. Go lecture anyway.\")"
      ],
      "metadata": {
        "colab": {
          "base_uri": "https://localhost:8080/"
        },
        "id": "1tIk0MtGIDA1",
        "outputId": "166fb71d-c6c0-4e9a-c181-9d727eb6fdb1"
      },
      "execution_count": null,
      "outputs": [
        {
          "output_type": "stream",
          "name": "stdout",
          "text": [
            "No time to make your bed. Go lecture anyway.\n"
          ]
        }
      ]
    },
    {
      "cell_type": "code",
      "source": [
        "bed_made = False\n",
        "on_time = False\n",
        "\n",
        "if bed_made:\n",
        "    print(\"Ready to lecture.\")\n",
        "else:\n",
        "    if on_time:\n",
        "        print(\"Go make your bed.\")\n",
        "    else:\n",
        "        print(\"No time to make your bed. Go lecture anyway.\")"
      ],
      "metadata": {
        "id": "o2jLeFKoIjMN"
      },
      "execution_count": null,
      "outputs": []
    },
    {
      "cell_type": "markdown",
      "metadata": {
        "id": "BnwzKHfrEXIh"
      },
      "source": [
        "**A note about plagiarism in writing computer programs.**"
      ]
    },
    {
      "cell_type": "markdown",
      "metadata": {
        "id": "QTO1tK_dCzWE"
      },
      "source": [
        "(d) Implement the above code, but take into consideration that I also like to have a water bottle on my desk before I start lecturing.\n",
        "\n",
        "The outputs are now:\n",
        "* No time to get ready. Start lecturing now.\n",
        "* Ready to lecture.\n",
        "* Get your water bottle.\n",
        "* Go make your bed."
      ]
    },
    {
      "cell_type": "code",
      "metadata": {
        "id": "bdpdieZYrAIz",
        "colab": {
          "base_uri": "https://localhost:8080/"
        },
        "outputId": "17b6e8ba-c2b7-46c2-85f9-c8aaf2e9396f"
      },
      "source": [
        "bed_made = False\n",
        "on_time = True\n",
        "water_bottle = False\n",
        "\n",
        "# 1. bed_made --> True... check water_bottle -> True... --> Ready to lecture\n",
        "# 2. on_time --> True\n",
        "#           check water bottle (get it if not there)\n",
        "#           check bed made (make it if not made)\n",
        "# 3. not on time\n",
        "#         --> No time to get ready. Start lecturing now.\n",
        "\n",
        "if bed_made and water_bottle:\n",
        "    print(\"Ready to lecture.\")\n",
        "if on_time:\n",
        "    if not bed_made:\n",
        "        print(\"Go make your bed.\")\n",
        "    if not water_bottle:\n",
        "        print(\"Go get your water bottle.\")\n",
        "elif not (bed_made and water_bottle):\n",
        "    print(\"No time to get ready. Start lecturing now.\")"
      ],
      "execution_count": null,
      "outputs": [
        {
          "output_type": "stream",
          "name": "stdout",
          "text": [
            "Go make your bed.\n",
            "Go get your water bottle.\n"
          ]
        }
      ]
    },
    {
      "cell_type": "markdown",
      "metadata": {
        "id": "Dq6fWE4oY9_P"
      },
      "source": [
        "# 2.2 - User Text Input\n",
        "\n",
        "* Get input from the user:\n",
        "`input()`\n",
        "* Put a prompt telling the user what they should be entering:\n",
        "`input(prompt)`\n",
        "* Save what the user inputs:\n",
        "`variable = input()`"
      ]
    },
    {
      "cell_type": "code",
      "metadata": {
        "id": "z-8NF2xdZCub",
        "colab": {
          "base_uri": "https://localhost:8080/"
        },
        "outputId": "e3c1e114-4155-4b0a-ffbc-056976928459"
      },
      "source": [
        "user_answer = input()\n",
        "print(user_answer)"
      ],
      "execution_count": null,
      "outputs": [
        {
          "output_type": "stream",
          "name": "stdout",
          "text": [
            "anything :)\n",
            "anything :)\n"
          ]
        }
      ]
    },
    {
      "cell_type": "code",
      "metadata": {
        "id": "EAwF-3-DAaQo",
        "colab": {
          "base_uri": "https://localhost:8080/"
        },
        "outputId": "e46b9862-4c49-4422-ed32-d46e539140f2"
      },
      "source": [
        "user_login = input(\"Enter your username: \")\n",
        "print(f\"Your username is: {user_login}.\")"
      ],
      "execution_count": null,
      "outputs": [
        {
          "output_type": "stream",
          "name": "stdout",
          "text": [
            "Enter your username: sim\n",
            "Your username is: sim.\n"
          ]
        }
      ]
    },
    {
      "cell_type": "markdown",
      "metadata": {
        "id": "fvKZYreWZcrQ"
      },
      "source": [
        "Write some code which asks the user for their name. If they enter \"Sim\", then say \"Hello Sim\". If they enter any other name, say \"Goodbye\"."
      ]
    },
    {
      "cell_type": "code",
      "metadata": {
        "id": "50fqNw9xBBGI",
        "colab": {
          "base_uri": "https://localhost:8080/"
        },
        "outputId": "9ab9169a-3633-4fba-850f-16f5541eff92"
      },
      "source": [
        "user = input(\"Enter your name: \")\n",
        "if user == \"Sim\":\n",
        "    print(\"Hello Sim\")\n",
        "else:\n",
        "    print(\"Goodbye\")"
      ],
      "execution_count": null,
      "outputs": [
        {
          "output_type": "stream",
          "name": "stdout",
          "text": [
            "Enter your name: Alicia\n",
            "Goodbye\n"
          ]
        }
      ]
    },
    {
      "cell_type": "markdown",
      "metadata": {
        "id": "mBrpzl21BBZ_"
      },
      "source": [
        "Write some code which asks the user for their name. If they enter one word (no spaces) display \"Hello \\<name\\>\". If they enter more than one word, display \"Goodbye\"."
      ]
    },
    {
      "cell_type": "code",
      "metadata": {
        "id": "I1aiz-OUBQqO",
        "colab": {
          "base_uri": "https://localhost:8080/"
        },
        "outputId": "178406e6-5029-4c0c-a822-9f4fa5b82185"
      },
      "source": [
        "user = input(\"Enter your name: \")\n",
        "if user.count(' ') == 0:\n",
        "    print(f\"Hello {user}\")\n",
        "else:\n",
        "    print(\"Goodbye\")"
      ],
      "execution_count": null,
      "outputs": [
        {
          "output_type": "stream",
          "name": "stdout",
          "text": [
            "Enter your name: Sim Mautner\n",
            "Goodbye\n"
          ]
        }
      ]
    },
    {
      "cell_type": "markdown",
      "metadata": {
        "id": "Gle9bA2XwlK-"
      },
      "source": [
        "<a name='eg_password_evaluator_cell'></a>\n",
        "Example: Password Evaluator\n",
        "\n",
        "Write some code which asks the user to suggest a password, and then displays:\n",
        "* \"Strong\" if the password is 12 or more characters, and contains both upper and lower case characters\n",
        "* \"Weak\" if the password satisfies only one of the above conditions\n",
        "* \"Very weak\" if the password satisfies neither of the above conditions."
      ]
    },
    {
      "cell_type": "code",
      "metadata": {
        "id": "59M-Wcf1wrVJ",
        "colab": {
          "base_uri": "https://localhost:8080/"
        },
        "outputId": "bc84554e-c9e8-486e-82ea-3321974de021"
      },
      "source": [
        "password = input(\"Enter a password: \")\n",
        "\n",
        "# Get length of password\n",
        "len_password = len(password)\n",
        "\n",
        "# Find out if password has lowercase / uppercase characters\n",
        "has_upper = (password != password.lower())\n",
        "has_lower = (password != password.upper())\n",
        "\n",
        "has_both_upper_and_lower = has_upper and has_lower\n",
        "\n",
        "'''\n",
        "!@# -> !@# (no upper)\n",
        "!A -> (convert to lowercase) !a (has upper)\n",
        "\n",
        "abc --> convert to uppercase --> ABC\n",
        "'''\n",
        "\n",
        "if len_password >=12 and has_both_upper_and_lower:\n",
        "    print(\"Strong\")\n",
        "elif len_password >=12 or has_both_upper_and_lower:\n",
        "    print(\"Weak\")\n",
        "else:\n",
        "    print(\"Very Weak\")"
      ],
      "execution_count": null,
      "outputs": [
        {
          "output_type": "stream",
          "name": "stdout",
          "text": [
            "Enter a password: Something Interesting\n",
            "Strong\n"
          ]
        }
      ]
    },
    {
      "cell_type": "markdown",
      "metadata": {
        "id": "YkNbABqZcwVC"
      },
      "source": [
        "# 2.3 - Loops"
      ]
    },
    {
      "cell_type": "markdown",
      "metadata": {
        "id": "-4TeqaL8CRM9"
      },
      "source": [
        "## While Loops\n",
        "\n",
        "```\n",
        "while condition:\n",
        "  code_to_execute_while_condition_is_true\n",
        "```\n",
        "\n",
        "Following on from the [password evaluator](#eg_password_evaluator_cell) example, what happens if the user enters a password which doesn't satisfy the requirements? Can we ask them to keep entering passwords until they choose a \"strong\" password?"
      ]
    },
    {
      "cell_type": "code",
      "metadata": {
        "id": "GEpm1mgveFOJ"
      },
      "source": [
        "password = input(\"Enter a password: \")\n",
        "\n",
        "# Get length of password\n",
        "len_password = len(password)\n",
        "\n",
        "# Find out if password has lowercase / uppercase characters\n",
        "has_upper = (password != password.lower())\n",
        "has_lower = (password != password.upper())\n",
        "\n",
        "has_both_upper_and_lower = has_upper and has_lower\n",
        "\n",
        "'''\n",
        "!@# -> !@# (no upper)\n",
        "!A -> (convert to lowercase) !a (has upper)\n",
        "\n",
        "abc --> convert to uppercase --> ABC\n",
        "'''\n",
        "\n",
        "if len_password >=12 and has_both_upper_and_lower:\n",
        "    print(\"Strong\")\n",
        "else:\n",
        "    if len_password >=12 or has_both_upper_and_lower:\n",
        "        print(\"Weak\")\n",
        "    else:\n",
        "        print(\"Very Weak\")\n",
        "\n",
        "    password = input(\"Enter a password: \")\n",
        "\n",
        "    # Get length of password\n",
        "    len_password = len(password)\n",
        "\n",
        "    # Find out if password has lowercase / uppercase characters\n",
        "    has_upper = (password != password.lower())\n",
        "    has_lower = (password != password.upper())\n",
        "\n",
        "    has_both_upper_and_lower = has_upper and has_lower\n",
        "\n",
        "    '''\n",
        "    !@# -> !@# (no upper)\n",
        "    !A -> (convert to lowercase) !a (has upper)\n",
        "\n",
        "    abc --> convert to uppercase --> ABC\n",
        "    '''\n",
        "\n",
        "    if len_password >=12 and has_both_upper_and_lower:\n",
        "        print(\"Strong\")\n",
        "    else:\n",
        "        if len_password >=12 or has_both_upper_and_lower:\n",
        "            print(\"Weak\")\n",
        "        else:\n",
        "            print(\"Very Weak\")\n",
        "        password = input(\"Enter a password: \")\n",
        "\n",
        "        # Get length of password\n",
        "        len_password = len(password)\n",
        "\n",
        "        # Find out if password has lowercase / uppercase characters\n",
        "        has_upper = (password != password.lower())\n",
        "        has_lower = (password != password.upper())\n",
        "\n",
        "        has_both_upper_and_lower = has_upper and has_lower\n",
        "\n",
        "        '''\n",
        "        !@# -> !@# (no upper)\n",
        "        !A -> (convert to lowercase) !a (has upper)\n",
        "\n",
        "        abc --> convert to uppercase --> ABC\n",
        "        '''\n",
        "\n",
        "        if len_password >=12 and has_both_upper_and_lower:\n",
        "            print(\"Strong\")\n",
        "        else:\n",
        "            if len_password >=12 or has_both_upper_and_lower:\n",
        "                print(\"Weak\")\n",
        "            else:\n",
        "                print(\"Very Weak\")\n",
        "\n",
        "            password = input(\"Enter a password: \")\n",
        "\n",
        "            # Get length of password\n",
        "            len_password = len(password)\n",
        "\n",
        "            # Find out if password has lowercase / uppercase characters\n",
        "            has_upper = (password != password.lower())\n",
        "            has_lower = (password != password.upper())\n",
        "\n",
        "            has_both_upper_and_lower = has_upper and has_lower\n",
        "\n",
        "            '''\n",
        "            !@# -> !@# (no upper)\n",
        "            !A -> (convert to lowercase) !a (has upper)\n",
        "\n",
        "            abc --> convert to uppercase --> ABC\n",
        "            '''\n",
        "\n",
        "            if len_password >=12 and has_both_upper_and_lower:\n",
        "                print(\"Strong\")\n",
        "            elif len_password >=12 or has_both_upper_and_lower:\n",
        "                print(\"Weak\")\n",
        "            else:\n",
        "                print(\"Very Weak\")"
      ],
      "execution_count": null,
      "outputs": []
    },
    {
      "cell_type": "markdown",
      "source": [
        "**What are the problems with this?**\n",
        "1. Too long.\n",
        "2. Endless.\n",
        "3. Hard to update (if the criteria for a strong password, change)."
      ],
      "metadata": {
        "id": "GyTrZPTqQzO8"
      }
    },
    {
      "cell_type": "markdown",
      "metadata": {
        "id": "qK27eu5W59Xl"
      },
      "source": [
        "Is there a better way to do this?\n",
        "\n",
        "In short, we want to keep doing the same thing over and over again, until a condition is met.\n",
        "\n",
        "> Demo:\n",
        "> * Control flow in loops in general\n",
        "> * Control flow in this example\n",
        "\n"
      ]
    },
    {
      "cell_type": "code",
      "metadata": {
        "id": "WN_9P0QF6G3T",
        "colab": {
          "base_uri": "https://localhost:8080/"
        },
        "outputId": "11ad6876-19a1-4a7f-b73f-46503402e1db"
      },
      "source": [
        "password = input(\"Enter a password: \")\n",
        "\n",
        "# Get length of password\n",
        "len_password = len(password)\n",
        "\n",
        "# Find out if password has lowercase / uppercase characters\n",
        "has_upper = (password != password.lower())\n",
        "has_lower = (password != password.upper())\n",
        "\n",
        "has_both_upper_and_lower = has_upper and has_lower\n",
        "\n",
        "'''\n",
        "!@# -> !@# (no upper)\n",
        "!A -> (convert to lowercase) !a (has upper)\n",
        "\n",
        "abc --> convert to uppercase --> ABC\n",
        "'''\n",
        "\n",
        "if len_password >=12 and has_both_upper_and_lower:\n",
        "    print(\"Strong\")\n",
        "elif len_password >=12 or has_both_upper_and_lower:\n",
        "    print(\"Weak\")\n",
        "else:\n",
        "    print(\"Very Weak\")\n",
        "\n",
        "# While not a \"Strong\" password\n",
        "while not (len_password >=12 and has_both_upper_and_lower):\n",
        "    password = input(\"Enter a password: \")\n",
        "\n",
        "    # Get length of password\n",
        "    len_password = len(password)\n",
        "\n",
        "    # Find out if password has lowercase / uppercase characters\n",
        "    has_upper = (password != password.lower())\n",
        "    has_lower = (password != password.upper())\n",
        "\n",
        "    has_both_upper_and_lower = has_upper and has_lower\n",
        "\n",
        "    '''\n",
        "    !@# -> !@# (no upper)\n",
        "    !A -> (convert to lowercase) !a (has upper)\n",
        "\n",
        "    abc --> convert to uppercase --> ABC\n",
        "    '''\n",
        "\n",
        "    if len_password >=12 and has_both_upper_and_lower:\n",
        "        print(\"Strong\")\n",
        "    elif len_password >=12 or has_both_upper_and_lower:\n",
        "        print(\"Weak\")\n",
        "    else:\n",
        "        print(\"Very Weak\")"
      ],
      "execution_count": null,
      "outputs": [
        {
          "output_type": "stream",
          "name": "stdout",
          "text": [
            "Enter a password: hello\n",
            "Very Weak\n",
            "Enter a password: Hello\n",
            "Weak\n",
            "Enter a password: something interesting\n",
            "Weak\n",
            "Enter a password: Something Interesting\n",
            "Strong\n"
          ]
        }
      ]
    },
    {
      "cell_type": "code",
      "metadata": {
        "outputId": "11ad6876-19a1-4a7f-b73f-46503402e1db",
        "colab": {
          "base_uri": "https://localhost:8080/"
        },
        "id": "WulkUvkdVDXB"
      },
      "source": [
        "password = \"\"\n",
        "\n",
        "# Get length of password\n",
        "len_password = len(password)\n",
        "\n",
        "# Find out if password has lowercase / uppercase characters\n",
        "has_upper = (password != password.lower())\n",
        "has_lower = (password != password.upper())\n",
        "\n",
        "has_both_upper_and_lower = has_upper and has_lower\n",
        "\n",
        "# While not a \"Strong\" password\n",
        "while not (len_password >=12 and has_both_upper_and_lower):\n",
        "    password = input(\"Enter a password: \")\n",
        "\n",
        "    # Get length of password\n",
        "    len_password = len(password)\n",
        "    \n",
        "    # Find out if password has lowercase / uppercase characters\n",
        "    has_upper = (password != password.lower())\n",
        "    has_lower = (password != password.upper())\n",
        "\n",
        "    has_both_upper_and_lower = has_upper and has_lower\n",
        "\n",
        "    '''\n",
        "    !@# -> !@# (no upper)\n",
        "    !A -> (convert to lowercase) !a (has upper)\n",
        "\n",
        "    abc --> convert to uppercase --> ABC\n",
        "    '''\n",
        "\n",
        "    if len_password >=12 and has_both_upper_and_lower:\n",
        "        print(\"Strong\")\n",
        "    elif len_password >=12 or has_both_upper_and_lower:\n",
        "        print(\"Weak\")\n",
        "    else:\n",
        "        print(\"Very Weak\")"
      ],
      "execution_count": null,
      "outputs": [
        {
          "output_type": "stream",
          "name": "stdout",
          "text": [
            "Enter a password: hello\n",
            "Very Weak\n",
            "Enter a password: Hello\n",
            "Weak\n",
            "Enter a password: something interesting\n",
            "Weak\n",
            "Enter a password: Something Interesting\n",
            "Strong\n"
          ]
        }
      ]
    },
    {
      "cell_type": "markdown",
      "metadata": {
        "id": "4KXXnG4tfj35"
      },
      "source": [
        "<a name='eg_square_numbers_cell'></a>\n",
        "### Example: Square Numbers\n",
        "\n",
        "> Demo:\n",
        "> * What are square numbers? How do we calculate them?\n",
        "> * How do we write this code?\n",
        "\n",
        "Write some code which takes in a number from the user, and prints out the numbers from 1 up to that number, and the squares of those numbers.\n",
        "\n",
        "```\n",
        "Enter a number: 5\n",
        "\n",
        "1 1\n",
        "2 4\n",
        "3 9\n",
        "4 16\n",
        "```"
      ]
    },
    {
      "cell_type": "code",
      "metadata": {
        "id": "rWytniVuDNXz",
        "outputId": "1b971162-74c9-4a8f-b93c-1dccb644f4ae",
        "colab": {
          "base_uri": "https://localhost:8080/"
        }
      },
      "source": [
        "user_num = int(input(\"Enter a number: \"))\n",
        "up_to = 1\n",
        "\n",
        "while up_to < user_num:\n",
        "    squared_number = up_to * up_to\n",
        "    print(f\"{up_to} {squared_number}\")\n",
        "    up_to = up_to + 1"
      ],
      "execution_count": null,
      "outputs": [
        {
          "output_type": "stream",
          "name": "stdout",
          "text": [
            "Enter a number: 5\n",
            "1 1\n",
            "2 4\n",
            "3 9\n",
            "4 16\n"
          ]
        }
      ]
    },
    {
      "cell_type": "markdown",
      "metadata": {
        "id": "MZ9ug9b_DNs3"
      },
      "source": [
        "<a name='eg_triangular_numbers_cell'></a>\n",
        "### Example: Triangular Numbers\n",
        "\n",
        "> Demo:\n",
        "> * What are triangular numbers? How do we calculate them? (This is more of an aside.)\n",
        "> * How do we write this code?\n",
        "\n",
        "Write some code which takes in a number from the user, and prints out the sum of the numbers from 1 up to and including that number. (ie 3 --> 1+2+3 = 6)\n",
        "\n",
        "```\n",
        "Enter a number: 3\n",
        "\n",
        "6\n",
        "```"
      ]
    },
    {
      "cell_type": "code",
      "metadata": {
        "id": "xc7A6Pp9JApm",
        "outputId": "5b725efa-bdea-478a-8f39-d62e41320763",
        "colab": {
          "base_uri": "https://localhost:8080/"
        }
      },
      "source": [
        "user_entered = int(input(\"Enter a number: \"))\n",
        "next_to_add = user_entered\n",
        "total = 0\n",
        "\n",
        "while next_to_add > 0:\n",
        "    total = total + next_to_add\n",
        "    next_to_add = next_to_add - 1\n",
        "\n",
        "print(total)"
      ],
      "execution_count": null,
      "outputs": [
        {
          "output_type": "stream",
          "name": "stdout",
          "text": [
            "Enter a number: 4\n",
            "10\n"
          ]
        }
      ]
    },
    {
      "cell_type": "code",
      "source": [
        "# Another approach\n",
        "\n",
        "user_entered = int(input(\"Enter a number: \"))\n",
        "next_to_add = 1\n",
        "total = 0\n",
        "\n",
        "while next_to_add <= user_entered:\n",
        "    total = total + next_to_add\n",
        "    next_to_add = next_to_add + 1\n",
        "\n",
        "print(total)"
      ],
      "metadata": {
        "id": "iOvPRYomYWft",
        "outputId": "878f8a31-fc29-4a80-e325-10bc63744b39",
        "colab": {
          "base_uri": "https://localhost:8080/"
        }
      },
      "execution_count": null,
      "outputs": [
        {
          "output_type": "stream",
          "name": "stdout",
          "text": [
            "Enter a number: 5\n",
            "15\n"
          ]
        }
      ]
    },
    {
      "cell_type": "markdown",
      "metadata": {
        "id": "32MS8qvuDklj"
      },
      "source": [
        "## For Loops\n",
        "\n",
        "```\n",
        "for ... in ...:\n",
        "  code_to_execute_on_each_value\n",
        "```"
      ]
    },
    {
      "cell_type": "markdown",
      "metadata": {
        "id": "o2g7udMkDpMd"
      },
      "source": [
        "Redo the [square numbers](#eg_square_numbers_cell) example and the [triangular numbers](#eg_triangular_numbers_cell) example using for loops instead of while loops."
      ]
    },
    {
      "cell_type": "code",
      "metadata": {
        "id": "LxAjyoYFDv3z",
        "outputId": "7e3464fe-c72b-4724-b11e-907a900d1606",
        "colab": {
          "base_uri": "https://localhost:8080/"
        }
      },
      "source": [
        "user_num = int(input(\"Enter a number: \"))\n",
        "\n",
        "for up_to in range(1, user_num):\n",
        "    #squared_number = up_to * up_to\n",
        "    #print(f\"{up_to} {squared_number}\")\n",
        "    print(f\"{up_to} {up_to * up_to}\")"
      ],
      "execution_count": null,
      "outputs": [
        {
          "output_type": "stream",
          "name": "stdout",
          "text": [
            "Enter a number: 5\n",
            "1 1\n",
            "2 4\n",
            "3 9\n",
            "4 16\n"
          ]
        }
      ]
    },
    {
      "cell_type": "code",
      "metadata": {
        "id": "H2AVVV3ZDwKE",
        "outputId": "31ce041d-65de-4128-fb4d-d631dd24036c",
        "colab": {
          "base_uri": "https://localhost:8080/"
        }
      },
      "source": [
        "user_entered = int(input(\"Enter a number: \"))\n",
        "total = 0\n",
        "\n",
        "for next_to_add in range(1, user_entered+1):\n",
        "    total = total + next_to_add\n",
        "    #print(f\"Adding {next_to_add} to get {total}.\")\n",
        "\n",
        "print(total)"
      ],
      "execution_count": null,
      "outputs": [
        {
          "output_type": "stream",
          "name": "stdout",
          "text": [
            "Enter a number: 5\n",
            "15\n"
          ]
        }
      ]
    },
    {
      "cell_type": "code",
      "source": [
        "for num in range(1,3):\n",
        "    print(num)"
      ],
      "metadata": {
        "id": "6-ae0060aXjr",
        "outputId": "d4936ac8-fb17-45ce-a42c-365b106f2a80",
        "colab": {
          "base_uri": "https://localhost:8080/"
        }
      },
      "execution_count": null,
      "outputs": [
        {
          "output_type": "stream",
          "name": "stdout",
          "text": [
            "1\n",
            "2\n"
          ]
        }
      ]
    },
    {
      "cell_type": "markdown",
      "metadata": {
        "id": "obYBHYlwN0nl"
      },
      "source": [
        "### Example: Strings - one letter at a time.\n",
        "\n",
        "Write some code which prints out the letters of a string one at a time."
      ]
    },
    {
      "cell_type": "code",
      "metadata": {
        "id": "ftJ3bHMyOLk-",
        "outputId": "8ba66712-7d20-43ef-a0f3-7f7a1003bc8a",
        "colab": {
          "base_uri": "https://localhost:8080/"
        }
      },
      "source": [
        "# Using a counter to access individual elements (while loop or for loop)\n",
        "\n",
        "# \"Hello\" -> 0,1,2,3,4. len(\"Hello\") -> 5\n",
        "\n",
        "text = input(\"Enter some text: \")\n",
        "\n",
        "up_to = 0\n",
        "stop_at = len(text)\n",
        "\n",
        "while up_to < stop_at:\n",
        "    print(text[up_to])\n",
        "    up_to = up_to + 1"
      ],
      "execution_count": null,
      "outputs": [
        {
          "output_type": "stream",
          "name": "stdout",
          "text": [
            "Enter some text: hi\n",
            "h\n",
            "i\n"
          ]
        }
      ]
    },
    {
      "cell_type": "code",
      "source": [
        "# Example of IndexError\n",
        "text = \"hello\" # there are 5 characters, valid indexes are 0,1,2,3,4\n",
        "# To trigger an IndexError, try access index 5 or 6\n",
        "print(text[5])"
      ],
      "metadata": {
        "id": "Va1Q5pHCbjQR",
        "outputId": "677a3737-4e0d-4c1a-b91f-584b254d8496",
        "colab": {
          "base_uri": "https://localhost:8080/",
          "height": 203
        }
      },
      "execution_count": null,
      "outputs": [
        {
          "output_type": "error",
          "ename": "IndexError",
          "evalue": "ignored",
          "traceback": [
            "\u001b[0;31m---------------------------------------------------------------------------\u001b[0m",
            "\u001b[0;31mIndexError\u001b[0m                                Traceback (most recent call last)",
            "\u001b[0;32m<ipython-input-26-f4cd1d8f05dc>\u001b[0m in \u001b[0;36m<module>\u001b[0;34m\u001b[0m\n\u001b[1;32m      2\u001b[0m \u001b[0mtext\u001b[0m \u001b[0;34m=\u001b[0m \u001b[0;34m\"hello\"\u001b[0m \u001b[0;31m# there are 5 characters, valid indexes are 0,1,2,3,4\u001b[0m\u001b[0;34m\u001b[0m\u001b[0;34m\u001b[0m\u001b[0m\n\u001b[1;32m      3\u001b[0m \u001b[0;31m# To trigger an IndexError, try access index 5 or 6\u001b[0m\u001b[0;34m\u001b[0m\u001b[0;34m\u001b[0m\u001b[0;34m\u001b[0m\u001b[0m\n\u001b[0;32m----> 4\u001b[0;31m \u001b[0mprint\u001b[0m\u001b[0;34m(\u001b[0m\u001b[0mtext\u001b[0m\u001b[0;34m[\u001b[0m\u001b[0;36m5\u001b[0m\u001b[0;34m]\u001b[0m\u001b[0;34m)\u001b[0m\u001b[0;34m\u001b[0m\u001b[0;34m\u001b[0m\u001b[0m\n\u001b[0m",
            "\u001b[0;31mIndexError\u001b[0m: string index out of range"
          ]
        }
      ]
    },
    {
      "cell_type": "code",
      "source": [
        "text = input(\"Enter some text: \")\n",
        "\n",
        "for up_to in range(0, len(text)):\n",
        "    print(text[up_to])"
      ],
      "metadata": {
        "id": "WahRn4W6b8-s",
        "outputId": "5f0fbd10-bf2d-4c26-918c-585072d757fd",
        "colab": {
          "base_uri": "https://localhost:8080/"
        }
      },
      "execution_count": null,
      "outputs": [
        {
          "output_type": "stream",
          "name": "stdout",
          "text": [
            "Enter some text: hello\n",
            "h\n",
            "e\n",
            "l\n",
            "l\n",
            "o\n"
          ]
        }
      ]
    },
    {
      "cell_type": "code",
      "metadata": {
        "id": "jq4lduglOOQt",
        "outputId": "3ffcd573-c89b-4cbf-b851-de04026bb405",
        "colab": {
          "base_uri": "https://localhost:8080/"
        }
      },
      "source": [
        "# Using the features of a string as an iterator (for loop)\n",
        "\n",
        "text = input(\"Enter some text: \")\n",
        "\n",
        "for character in text:\n",
        "    print(character)"
      ],
      "execution_count": null,
      "outputs": [
        {
          "output_type": "stream",
          "name": "stdout",
          "text": [
            "Enter some text: something\n",
            "s\n",
            "o\n",
            "m\n",
            "e\n",
            "t\n",
            "h\n",
            "i\n",
            "n\n",
            "g\n"
          ]
        }
      ]
    },
    {
      "cell_type": "markdown",
      "metadata": {
        "id": "HPEBS58xnYI4"
      },
      "source": [
        "### Obfuscation\n",
        "Is there another way to solve this problem?\n",
        "\n",
        "> Oh no, somaona hes dona somathing tarribla to my writing. Thay'va sweppad eround tha lattar 'e' end tha lattar 'a'"
      ]
    },
    {
      "cell_type": "code",
      "source": [
        "text = \"Oh no, somaona hes dona somathing tarribla to my writing. Thay'va sweppad eround tha lattar 'e' end tha lattar 'a'\"\n",
        "fixed_text = \"\"\n",
        "\n",
        "# Copy, letter by letter, text into fixed text. --> DONE\n",
        "# Improve the code, so that when copying it, any 'a' gets \"copied\" as an 'e', and any 'e' gets \"copied\" as an 'a'.\n",
        "\n",
        "for letter in text:\n",
        "    #print(f\"Copying letter: {letter}\")\n",
        "    if letter == 'a':\n",
        "        fixed_text = fixed_text + 'e'\n",
        "    elif letter == 'e':\n",
        "        fixed_text = fixed_text + 'a'\n",
        "    else:\n",
        "        fixed_text = fixed_text + letter\n",
        "    #print(fixed_text)\n",
        "\n",
        "print(fixed_text)"
      ],
      "metadata": {
        "id": "8nqR4pP7dtzM",
        "outputId": "01ac445d-507e-48b6-dab4-23287b166f1f",
        "colab": {
          "base_uri": "https://localhost:8080/"
        }
      },
      "execution_count": null,
      "outputs": [
        {
          "output_type": "stream",
          "name": "stdout",
          "text": [
            "Oh no, someone has done something terrible to my writing. They've swapped around the letter 'a' and the letter 'e'\n"
          ]
        }
      ]
    },
    {
      "cell_type": "markdown",
      "metadata": {
        "id": "Dsm5N-CGLh7S"
      },
      "source": [
        "# 2.4 - Bringing it all together\n",
        "\n",
        "Example: Guess my number\n",
        "\n",
        "Write a program (piece of python code) which:\n",
        "1. Asks the user to choose a number between 1 and 100 (but not enter it).\n",
        "2. The program then guesses the user's number, and asks if the user's number is higher or lower than their guess.\n",
        "3. The user then enters `H` for higher, `L` for lower or `C` for correct, depending on whether or not the program has guessed their number.\n",
        "4. The program keeps repeating steps 2 and 3 until it manages to guess the number."
      ]
    },
    {
      "cell_type": "code",
      "metadata": {
        "id": "uXw-qkGuRAdp",
        "outputId": "dd51370a-0c85-42c9-9c4f-fb6beb392970",
        "colab": {
          "base_uri": "https://localhost:8080/"
        }
      },
      "source": [
        "print(\"Choose a number between 1 and 100 (inclusive).\")\n",
        "\n",
        "lowest_possible = 1\n",
        "highest_possible = 100\n",
        "guess = int((lowest_possible + highest_possible)/2) # first guess was 50\n",
        "\n",
        "print(f\"My guess is {guess}.\")\n",
        "response = input(\"Is your number [H]igher, [L]ower or is my guess [C]orrect? \")\n",
        "\n",
        "while response != \"C\":\n",
        "    # Consider H\n",
        "    if response == \"H\":\n",
        "        # Higher than our guess (for example; higher than 50)\n",
        "        lowest_possible = guess + 1\n",
        "    # Consider L\n",
        "    if response == \"L\":\n",
        "        # Lower than our guess (for example; lower than 50)\n",
        "        highest_possible = guess - 1\n",
        "\n",
        "    #print(f\"As the computer, I now know that the number is between {lowest_possible} and {highest_possible} inclusive.\")\n",
        "    # Calculate next guess\n",
        "    guess = int((lowest_possible + highest_possible)/2)\n",
        "\n",
        "    print(f\"My guess is {guess}.\")\n",
        "    response = input(\"Is your number [H]igher, [L]ower or is my guess [C]orrect? \")\n",
        "\n",
        "# Consider C\n",
        "print(\"Yay! I guessed it! :)\")"
      ],
      "execution_count": null,
      "outputs": [
        {
          "output_type": "stream",
          "name": "stdout",
          "text": [
            "Choose a number between 1 and 100 (inclusive).\n",
            "My guess is 50.\n",
            "Is your number [H]igher, [L]ower or is my guess [C]orrect? H\n",
            "My guess is 75.\n",
            "Is your number [H]igher, [L]ower or is my guess [C]orrect? L\n",
            "My guess is 62.\n",
            "Is your number [H]igher, [L]ower or is my guess [C]orrect? C\n",
            "Yay! I guessed it! :)\n"
          ]
        }
      ]
    },
    {
      "cell_type": "markdown",
      "metadata": {
        "id": "k9cMFgGkuuDK"
      },
      "source": [
        "# 2.5 - Functions"
      ]
    },
    {
      "cell_type": "markdown",
      "metadata": {
        "id": "6_6ffqy8OolO"
      },
      "source": [
        "Purposes of functions:\n",
        "\n",
        "* Re-use code (\"Every line of code you don't write is bug free.\")\n",
        "* Testing\n",
        "* Abstraction / readability\n",
        "* Re-use code with different parameters\n",
        "\n",
        "(Point 1 and point 4 are different as it's often useful to use functions to not repeat ourselves even if (especially when?) the code is identical and doesn't require parameters to adapt it.)\n",
        "\n"
      ]
    },
    {
      "cell_type": "markdown",
      "metadata": {
        "id": "MZIdfUIcgHcs"
      },
      "source": [
        "Do you remember this box?\n",
        "\n",
        "Can we create a string with this box in it?\n",
        "\n",
        "```\n",
        "+-----+\n",
        "|     |\n",
        "|     |\n",
        "|     |\n",
        "+-----+\n",
        "```"
      ]
    },
    {
      "cell_type": "code",
      "metadata": {
        "id": "-CsBtFSHgWXm",
        "outputId": "2f195b72-3efa-4ae2-f84a-3dc342b5dd18",
        "colab": {
          "base_uri": "https://localhost:8080/"
        }
      },
      "source": [
        "box = \"+-----+\\n\"+\"|     |\\n\"*3+\"+-----+\\n\"\n",
        "print(box)"
      ],
      "execution_count": 1,
      "outputs": [
        {
          "output_type": "stream",
          "name": "stdout",
          "text": [
            "+-----+\n",
            "|     |\n",
            "|     |\n",
            "|     |\n",
            "+-----+\n",
            "\n"
          ]
        }
      ]
    },
    {
      "cell_type": "code",
      "source": [
        "top_line = \"+\" + \"-\"*5 + \"+\\n\"\n",
        "middle_line = \"|\" + \" \"*5 + \"|\\n\"\n",
        "box =  top_line + middle_line * 3 + top_line\n",
        "print(box)"
      ],
      "metadata": {
        "id": "tfZqgZ7PcBy2",
        "outputId": "cf37de2b-8101-4868-dd0e-ce60a959794c",
        "colab": {
          "base_uri": "https://localhost:8080/"
        }
      },
      "execution_count": 2,
      "outputs": [
        {
          "output_type": "stream",
          "name": "stdout",
          "text": [
            "+-----+\n",
            "|     |\n",
            "|     |\n",
            "|     |\n",
            "+-----+\n",
            "\n"
          ]
        }
      ]
    },
    {
      "cell_type": "markdown",
      "metadata": {
        "id": "Hci2yRlggWua"
      },
      "source": [
        "Can we create this box too?\n",
        "\n",
        "```\n",
        "+----------+\n",
        "|          |\n",
        "|          |\n",
        "|          |\n",
        "+----------+\n",
        "```"
      ]
    },
    {
      "cell_type": "code",
      "metadata": {
        "id": "GwxjSEeygg4m",
        "outputId": "5d390ad6-b92d-4a97-be42-8a0a35db1cda",
        "colab": {
          "base_uri": "https://localhost:8080/"
        }
      },
      "source": [
        "top_line = \"+\" + \"-\"*10 + \"+\\n\"\n",
        "middle_line = \"|\" + \" \"*10 + \"|\\n\"\n",
        "box =  top_line + middle_line * 3 + top_line\n",
        "print(box)"
      ],
      "execution_count": 3,
      "outputs": [
        {
          "output_type": "stream",
          "name": "stdout",
          "text": [
            "+----------+\n",
            "|          |\n",
            "|          |\n",
            "|          |\n",
            "+----------+\n",
            "\n"
          ]
        }
      ]
    },
    {
      "cell_type": "markdown",
      "metadata": {
        "id": "MEPnCq72ghPn"
      },
      "source": [
        "And this one too?\n",
        "\n",
        "```\n",
        "+----------+\n",
        "|          |\n",
        "+----------+\n",
        "```"
      ]
    },
    {
      "cell_type": "code",
      "source": [
        "top_line = \"+\" + \"-\"*10 + \"+\\n\"\n",
        "middle_line = \"|\" + \" \"*10 + \"|\\n\"\n",
        "box =  top_line + middle_line * 1 + top_line\n",
        "print(box)"
      ],
      "metadata": {
        "id": "iVAQTYMMcqXp",
        "outputId": "13c8f38e-b2af-46f7-b5b5-41eaad1f4013",
        "colab": {
          "base_uri": "https://localhost:8080/"
        }
      },
      "execution_count": 4,
      "outputs": [
        {
          "output_type": "stream",
          "name": "stdout",
          "text": [
            "+----------+\n",
            "|          |\n",
            "+----------+\n",
            "\n"
          ]
        }
      ]
    },
    {
      "cell_type": "markdown",
      "metadata": {
        "id": "xyPLKx0JgqcX"
      },
      "source": [
        "By looking at what the code in each situation has in common, we can write a function which will work for any size box."
      ]
    },
    {
      "cell_type": "code",
      "metadata": {
        "id": "2-5_gU7zgxW4"
      },
      "source": [
        "def print_box(height, width):\n",
        "    #print(f\"I am going to make a box with height {height} and width {width}.\")\n",
        "    top_line = \"+\" + \"-\"*width + \"+\\n\"\n",
        "    middle_line = \"|\" + \" \"*width + \"|\\n\"\n",
        "    box =  top_line + middle_line * height + top_line\n",
        "    print(box)"
      ],
      "execution_count": 7,
      "outputs": []
    },
    {
      "cell_type": "code",
      "source": [
        "print_box(5, 10)\n",
        "print_box(2, 3)\n",
        "print_box(1, 1)"
      ],
      "metadata": {
        "id": "I8KcmVGMdLmC",
        "outputId": "d8f2646d-e106-4cff-de76-3df66fbba9f4",
        "colab": {
          "base_uri": "https://localhost:8080/"
        }
      },
      "execution_count": 9,
      "outputs": [
        {
          "output_type": "stream",
          "name": "stdout",
          "text": [
            "+----------+\n",
            "|          |\n",
            "|          |\n",
            "|          |\n",
            "|          |\n",
            "|          |\n",
            "+----------+\n",
            "\n",
            "+---+\n",
            "|   |\n",
            "|   |\n",
            "+---+\n",
            "\n",
            "+-+\n",
            "| |\n",
            "+-+\n",
            "\n"
          ]
        }
      ]
    },
    {
      "cell_type": "markdown",
      "metadata": {
        "id": "ODCWq1Ydhhha"
      },
      "source": [
        "## Returning values from functions"
      ]
    },
    {
      "cell_type": "markdown",
      "metadata": {
        "id": "AQ9aOqsThOKE"
      },
      "source": [
        "Write a function `my_len()` which takes in a string as a parameter and returns the length of the string. (You can do this using the `len()` function, but the exercise is to do it without it.)"
      ]
    },
    {
      "cell_type": "code",
      "metadata": {
        "id": "x5ZGVZ1chPok",
        "outputId": "c8762906-1935-4933-d012-781e49aecd5f",
        "colab": {
          "base_uri": "https://localhost:8080/"
        }
      },
      "source": [
        "text = \"hello everyone\"\n",
        "len_of_text = len(text)\n",
        "print(len_of_text)"
      ],
      "execution_count": 10,
      "outputs": [
        {
          "output_type": "stream",
          "name": "stdout",
          "text": [
            "14\n"
          ]
        }
      ]
    },
    {
      "cell_type": "code",
      "source": [
        "def my_len(text):\n",
        "    count = 0 # how many characters I've seen so far\n",
        "    for character in text:\n",
        "        #print(character)\n",
        "        count = count + 1\n",
        "    return count\n",
        "\n",
        "\n",
        "num_characters = my_len(text)\n",
        "print(num_characters)"
      ],
      "metadata": {
        "id": "Swt11Y2Delg5",
        "outputId": "60ff7a0b-a71b-45ea-ffb4-0346ad9ce6e8",
        "colab": {
          "base_uri": "https://localhost:8080/"
        }
      },
      "execution_count": 16,
      "outputs": [
        {
          "output_type": "stream",
          "name": "stdout",
          "text": [
            "14\n"
          ]
        }
      ]
    },
    {
      "cell_type": "markdown",
      "metadata": {
        "id": "m0tGIH5uhP6B"
      },
      "source": [
        "Write your own function `my_count()` which takes in a string and a character and returns the number of times that character occurs in that string."
      ]
    },
    {
      "cell_type": "code",
      "metadata": {
        "id": "qEUo2lyIh7-l",
        "outputId": "078d2579-1e5a-4bca-adb7-cb698be17f1f",
        "colab": {
          "base_uri": "https://localhost:8080/"
        }
      },
      "source": [
        "def my_count(text, char_to_count):\n",
        "    count = 0\n",
        "    for character in text:\n",
        "        if character == char_to_count:\n",
        "            count = count + 1\n",
        "    return count\n",
        "\n",
        "total_es = my_count(\"hello everyone\", 'e')\n",
        "print(total_es)"
      ],
      "execution_count": 18,
      "outputs": [
        {
          "output_type": "stream",
          "name": "stdout",
          "text": [
            "4\n"
          ]
        }
      ]
    },
    {
      "cell_type": "markdown",
      "metadata": {
        "id": "8OTO2hrWSFOl"
      },
      "source": [
        "## Functions for Readability\n",
        "\n",
        "Re-write our code from the [Password Evaluator](#eg_password_evaluator_cell) question to use functions to make the code more readable."
      ]
    },
    {
      "cell_type": "code",
      "metadata": {
        "id": "9PDD_lHbSWoJ"
      },
      "source": [
        "def has_up_and_lo(password):\n",
        "    # Find out if password has lowercase / uppercase characters\n",
        "    has_upper = (password != password.lower())\n",
        "    has_lower = (password != password.upper())\n",
        "\n",
        "    has_both_upper_and_lower = has_upper and has_lower\n",
        "    return has_both_upper_and_lower\n",
        "\n",
        "\n",
        "password = input(\"Enter a password: \")\n",
        "\n",
        "len_password = len(password)\n",
        "has_both_upper_and_lower = has_up_and_lo(password)\n",
        "\n",
        "if len_password >=12 and has_both_upper_and_lower:\n",
        "    print(\"Strong\")\n",
        "elif len_password >=12 or has_both_upper_and_lower:\n",
        "    print(\"Weak\")\n",
        "else:\n",
        "    print(\"Very Weak\")"
      ],
      "execution_count": null,
      "outputs": []
    },
    {
      "cell_type": "code",
      "source": [
        "# Slightly different\n",
        "\n",
        "def has_up_and_lo(password):\n",
        "    # Find out if password has lowercase / uppercase characters\n",
        "    has_upper = (password != password.lower())\n",
        "    has_lower = (password != password.upper())\n",
        "\n",
        "    has_both_upper_and_lower = has_upper and has_lower\n",
        "    return has_both_upper_and_lower\n",
        "\n",
        "\n",
        "password = input(\"Enter a password: \")\n",
        "\n",
        "if len(password) >=12 and has_up_and_lo(password):\n",
        "    print(\"Strong\")\n",
        "elif len(password) >=12 or has_up_and_lo(password):\n",
        "    print(\"Weak\")\n",
        "else:\n",
        "    print(\"Very Weak\")"
      ],
      "metadata": {
        "id": "FA9VyRg4keMD"
      },
      "execution_count": null,
      "outputs": []
    },
    {
      "cell_type": "markdown",
      "source": [
        "# 2.6 Fun Stuff with Conditionals, Loops, and Strings"
      ],
      "metadata": {
        "id": "azQTBldYWzlj"
      }
    },
    {
      "cell_type": "markdown",
      "source": [
        "## `split`"
      ],
      "metadata": {
        "id": "gwb9z17GXuBL"
      }
    },
    {
      "cell_type": "code",
      "source": [
        "text = \"hello everyone\"\n",
        "text_split_up = text.split()\n",
        "\n",
        "for word in text_split_up:\n",
        "    print(word)"
      ],
      "metadata": {
        "id": "kT7LXbwPlBxc",
        "outputId": "73879239-0bff-411d-8bef-193b8a7934a4",
        "colab": {
          "base_uri": "https://localhost:8080/"
        }
      },
      "execution_count": 20,
      "outputs": [
        {
          "output_type": "stream",
          "name": "stdout",
          "text": [
            "hello\n",
            "everyone\n"
          ]
        }
      ]
    },
    {
      "cell_type": "code",
      "source": [
        "text = \"hello everyone\"\n",
        "text_split_up = text.split('e')\n",
        "\n",
        "for chunk in text_split_up:\n",
        "    print(chunk)"
      ],
      "metadata": {
        "id": "L-5jXfbblPD0",
        "outputId": "d145cb28-1484-4f96-862f-b7de76beff7f",
        "colab": {
          "base_uri": "https://localhost:8080/"
        }
      },
      "execution_count": 21,
      "outputs": [
        {
          "output_type": "stream",
          "name": "stdout",
          "text": [
            "h\n",
            "llo \n",
            "v\n",
            "ryon\n",
            "\n"
          ]
        }
      ]
    },
    {
      "cell_type": "code",
      "source": [
        "text = \"Abby,proposal,9.5\"\n",
        "text_split_up = text.split(',')\n",
        "\n",
        "for chunk in text_split_up:\n",
        "    print(chunk)"
      ],
      "metadata": {
        "id": "eaYcQAX6lXbT",
        "outputId": "ad844bb5-a6b7-4c31-e68c-0d066cc28120",
        "colab": {
          "base_uri": "https://localhost:8080/"
        }
      },
      "execution_count": 23,
      "outputs": [
        {
          "output_type": "stream",
          "name": "stdout",
          "text": [
            "Abby\n",
            "proposal\n",
            "9.5\n"
          ]
        }
      ]
    },
    {
      "cell_type": "markdown",
      "source": [
        "## `join`"
      ],
      "metadata": {
        "id": "yjX-Z_jyXwwa"
      }
    },
    {
      "cell_type": "code",
      "source": [
        "joined_text = \"\".join(text_split_up)\n",
        "print(joined_text)"
      ],
      "metadata": {
        "id": "WmG8ejE2llUU",
        "outputId": "33819884-2621-44d6-e93c-855615178b1a",
        "colab": {
          "base_uri": "https://localhost:8080/"
        }
      },
      "execution_count": 24,
      "outputs": [
        {
          "output_type": "stream",
          "name": "stdout",
          "text": [
            "Abbyproposal9.5\n"
          ]
        }
      ]
    },
    {
      "cell_type": "code",
      "source": [
        "joined_text = \"\\n\".join(text_split_up)\n",
        "print(joined_text)"
      ],
      "metadata": {
        "id": "a3dBt_Wxlvlz",
        "outputId": "0e315932-8a1e-45cd-cf9e-7ec42bb06e26",
        "colab": {
          "base_uri": "https://localhost:8080/"
        }
      },
      "execution_count": 25,
      "outputs": [
        {
          "output_type": "stream",
          "name": "stdout",
          "text": [
            "Abby\n",
            "proposal\n",
            "9.5\n"
          ]
        }
      ]
    },
    {
      "cell_type": "code",
      "source": [
        "joined_text = \" ...~~~... \".join(text_split_up)\n",
        "print(joined_text)"
      ],
      "metadata": {
        "id": "Ql7S_3fwlyz0",
        "outputId": "52e90303-4f6f-436b-a6b1-759ebf7f28e9",
        "colab": {
          "base_uri": "https://localhost:8080/"
        }
      },
      "execution_count": 26,
      "outputs": [
        {
          "output_type": "stream",
          "name": "stdout",
          "text": [
            "Abby ...~~~... proposal ...~~~... 9.5\n"
          ]
        }
      ]
    },
    {
      "cell_type": "code",
      "source": [
        "joined_text = \" \".join(text_split_up)\n",
        "print(joined_text)"
      ],
      "metadata": {
        "id": "-dMFD73jl2Jo",
        "outputId": "c329492e-9961-4c7e-b188-2d2dc69d05bd",
        "colab": {
          "base_uri": "https://localhost:8080/"
        }
      },
      "execution_count": 27,
      "outputs": [
        {
          "output_type": "stream",
          "name": "stdout",
          "text": [
            "Abby proposal 9.5\n"
          ]
        }
      ]
    },
    {
      "cell_type": "markdown",
      "source": [
        "## `in`"
      ],
      "metadata": {
        "id": "M04pwaQPXyOa"
      }
    },
    {
      "cell_type": "markdown",
      "source": [
        "## `string.punctuation`"
      ],
      "metadata": {
        "id": "53SgexLAX0zC"
      }
    },
    {
      "cell_type": "code",
      "source": [
        "import string\n",
        "\n",
        "print(string.punctuation)"
      ],
      "metadata": {
        "id": "DyXXzxN3mAkw",
        "outputId": "b9d7c562-2ad6-4159-f763-71c43fe23ee6",
        "colab": {
          "base_uri": "https://localhost:8080/"
        }
      },
      "execution_count": 29,
      "outputs": [
        {
          "output_type": "stream",
          "name": "stdout",
          "text": [
            "!\"#$%&'()*+,-./:;<=>?@[\\]^_`{|}~\n"
          ]
        }
      ]
    },
    {
      "cell_type": "markdown",
      "source": [
        "Improve your Password Evaluator to check your password has at least one punctuation character in it."
      ],
      "metadata": {
        "id": "Uy9K7IIlYLIj"
      }
    },
    {
      "cell_type": "code",
      "source": [
        "import string\n",
        "\n",
        "def has_up_and_lo(password):\n",
        "    # Find out if password has lowercase / uppercase characters\n",
        "    has_upper = (password != password.lower())\n",
        "    has_lower = (password != password.upper())\n",
        "\n",
        "    has_both_upper_and_lower = has_upper and has_lower\n",
        "    return has_both_upper_and_lower\n",
        "\n",
        "def has_punctuation(password):\n",
        "    for character in password:\n",
        "        if character in string.punctuation:\n",
        "            return True\n",
        "    return False\n",
        "\n",
        "\n",
        "\n",
        "password = input(\"Enter a password: \")\n",
        "\n",
        "if len(password) >=12 and has_up_and_lo(password) and has_punctuation(password):\n",
        "    print(\"Strong\")\n",
        "elif len(password) >=12 or has_up_and_lo(password) or has_punctuation(password):\n",
        "    print(\"Weak\")\n",
        "else:\n",
        "    print(\"Very Weak\")"
      ],
      "metadata": {
        "id": "n246CFkXmKPG",
        "outputId": "7d66c1c2-829b-4e3c-a13f-3b2074533ddd",
        "colab": {
          "base_uri": "https://localhost:8080/"
        }
      },
      "execution_count": 31,
      "outputs": [
        {
          "output_type": "stream",
          "name": "stdout",
          "text": [
            "Enter a password: Hello = everyone!!!!!\n",
            "Strong\n"
          ]
        }
      ]
    }
  ]
}