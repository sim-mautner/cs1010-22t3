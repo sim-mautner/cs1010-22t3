{
  "nbformat": 4,
  "nbformat_minor": 0,
  "metadata": {
    "colab": {
      "provenance": [],
      "authorship_tag": "ABX9TyOLo7ErcgT0FiXIkIl8gdHP",
      "include_colab_link": true
    },
    "kernelspec": {
      "name": "python3",
      "display_name": "Python 3"
    },
    "language_info": {
      "name": "python"
    }
  },
  "cells": [
    {
      "cell_type": "markdown",
      "metadata": {
        "id": "view-in-github",
        "colab_type": "text"
      },
      "source": [
        "<a href=\"https://colab.research.google.com/github/sim-mautner/cs1010-22t3/blob/main/3-ppf/01_first_concepts_other_document.ipynb\" target=\"_parent\"><img src=\"https://colab.research.google.com/assets/colab-badge.svg\" alt=\"Open In Colab\"/></a>"
      ]
    },
    {
      "cell_type": "markdown",
      "source": [
        "Spreadsheets:\n",
        "* Cells - name and contents/data, and all data has a type."
      ],
      "metadata": {
        "id": "DdaEgfResmD5"
      }
    },
    {
      "cell_type": "code",
      "execution_count": 3,
      "metadata": {
        "colab": {
          "base_uri": "https://localhost:8080/"
        },
        "id": "XW7cbz1Nsk87",
        "outputId": "f55386da-907a-4e29-b425-db15670d2f6f"
      },
      "outputs": [
        {
          "output_type": "stream",
          "name": "stdout",
          "text": [
            "Apples\n",
            "5\n",
            "Item is now \n",
            "Bananas\n"
          ]
        }
      ],
      "source": [
        "item = \"Apples\"\n",
        "how_many = 5\n",
        "\n",
        "print(item)\n",
        "print(how_many)\n",
        "\n",
        "item = \"Bananas\"\n",
        "\n",
        "print(\"Item is now \")\n",
        "print(item)"
      ]
    },
    {
      "cell_type": "markdown",
      "source": [
        "* Variable (\"name of the cell\") contains data. \n",
        "* We can change the data in the variable.\n",
        "* We can display the data in the variable using `print()`"
      ],
      "metadata": {
        "id": "C06xWmYHtuuj"
      }
    },
    {
      "cell_type": "markdown",
      "source": [
        "## Data Types\n",
        "\n",
        "* String (text)\n",
        "* Number\n",
        "* Boolean\n",
        "\n",
        "Can we find out what the type of a  variable is?"
      ],
      "metadata": {
        "id": "_MPKEPwcvFDb"
      }
    },
    {
      "cell_type": "code",
      "source": [
        "print(type(item))"
      ],
      "metadata": {
        "colab": {
          "base_uri": "https://localhost:8080/"
        },
        "id": "F572fa17s-Lc",
        "outputId": "0afdefeb-7308-403a-ea69-0b2fb7a03838"
      },
      "execution_count": 4,
      "outputs": [
        {
          "output_type": "execute_result",
          "data": {
            "text/plain": [
              "str"
            ]
          },
          "metadata": {},
          "execution_count": 4
        }
      ]
    },
    {
      "cell_type": "markdown",
      "source": [
        "the `type()` function tells us the data type of a given variable"
      ],
      "metadata": {
        "id": "fg8ZdSOFvjuM"
      }
    },
    {
      "cell_type": "code",
      "source": [
        "print(type(how_many))"
      ],
      "metadata": {
        "colab": {
          "base_uri": "https://localhost:8080/"
        },
        "id": "XR9ughqQvnkO",
        "outputId": "355adac1-9dfd-4cb7-b8eb-39f47dc58a82"
      },
      "execution_count": 5,
      "outputs": [
        {
          "output_type": "stream",
          "name": "stdout",
          "text": [
            "<class 'int'>\n"
          ]
        }
      ]
    },
    {
      "cell_type": "markdown",
      "source": [
        "* `int` refers to **integer** or a **whole number**\n",
        "* `str` refers to **string** or **text**"
      ],
      "metadata": {
        "id": "QjAVyfDivtw7"
      }
    },
    {
      "cell_type": "markdown",
      "source": [
        "If it was a decimal, would it be a different data type?"
      ],
      "metadata": {
        "id": "4p584kf2v-bE"
      }
    },
    {
      "cell_type": "code",
      "source": [
        "my_decimal = 3.1415926\n",
        "print(type(my_decimal))"
      ],
      "metadata": {
        "colab": {
          "base_uri": "https://localhost:8080/"
        },
        "id": "rBYFaJPMwBiX",
        "outputId": "b2d1c8d4-1d92-4832-814f-abf5f264269c"
      },
      "execution_count": 6,
      "outputs": [
        {
          "output_type": "stream",
          "name": "stdout",
          "text": [
            "<class 'float'>\n"
          ]
        }
      ]
    },
    {
      "cell_type": "markdown",
      "source": [
        "* `float` refers to a **decimal number**"
      ],
      "metadata": {
        "id": "AtazLeiPwH5a"
      }
    },
    {
      "cell_type": "code",
      "source": [
        "am_i_hungry = True\n",
        "has_chilli_beans = False\n",
        "\n",
        "print(type(am_i_hungry))"
      ],
      "metadata": {
        "colab": {
          "base_uri": "https://localhost:8080/"
        },
        "id": "Ahcxz5rzwMkw",
        "outputId": "b9ed61e9-5e72-413d-ca31-229f13cbd977"
      },
      "execution_count": 7,
      "outputs": [
        {
          "output_type": "stream",
          "name": "stdout",
          "text": [
            "<class 'bool'>\n"
          ]
        }
      ]
    },
    {
      "cell_type": "markdown",
      "source": [
        "* `bool` refers to **boolean** (True and False values only)"
      ],
      "metadata": {
        "id": "U-gM2VTHwbhR"
      }
    },
    {
      "cell_type": "markdown",
      "source": [],
      "metadata": {
        "id": "7EjDkrp2wjO5"
      }
    },
    {
      "cell_type": "code",
      "source": [
        "my_str = \"this is my sentence\""
      ],
      "metadata": {
        "id": "xg978oLJxRD1"
      },
      "execution_count": null,
      "outputs": []
    },
    {
      "cell_type": "markdown",
      "source": [
        "Aside: `x += 1` means the same thing as `x = x + 1`. `x += 5` means `x = x + 5`."
      ],
      "metadata": {
        "id": "HG7L5S0RymdY"
      }
    },
    {
      "cell_type": "code",
      "source": [],
      "metadata": {
        "id": "q1Rz6xuwypHg"
      },
      "execution_count": null,
      "outputs": []
    }
  ]
}