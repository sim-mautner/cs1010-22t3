{
  "nbformat": 4,
  "nbformat_minor": 0,
  "metadata": {
    "colab": {
      "provenance": [],
      "toc_visible": true,
      "authorship_tag": "ABX9TyNWJqgu98YXWQ5kNh7K3Zkl",
      "include_colab_link": true
    },
    "kernelspec": {
      "name": "python3",
      "display_name": "Python 3"
    },
    "language_info": {
      "name": "python"
    }
  },
  "cells": [
    {
      "cell_type": "markdown",
      "metadata": {
        "id": "view-in-github",
        "colab_type": "text"
      },
      "source": [
        "<a href=\"https://colab.research.google.com/github/sim-mautner/cs1010-22t3/blob/main/3-ppf/01_first_concepts.ipynb\" target=\"_parent\"><img src=\"https://colab.research.google.com/assets/colab-badge.svg\" alt=\"Open In Colab\"/></a>"
      ]
    },
    {
      "cell_type": "markdown",
      "metadata": {
        "id": "DZASYuPR5kI3"
      },
      "source": [
        "> Topic 3<br>\n",
        "> Python and Programming Fundamentals<br>\n",
        "> Week 1-3\n",
        "\n",
        "> Topic 3.1<br>\n",
        "> First Concepts"
      ]
    },
    {
      "cell_type": "markdown",
      "metadata": {
        "id": "Jg4-Rn-Hozhy"
      },
      "source": [
        "# 1 - Introduction to Python, Programming, and Variables"
      ]
    },
    {
      "cell_type": "markdown",
      "metadata": {
        "id": "Xbo0-z1AolkY"
      },
      "source": [
        "## First Python program\n",
        "\n",
        "What is 1 + 1?"
      ]
    },
    {
      "cell_type": "code",
      "metadata": {
        "id": "THwccXjCnnQO",
        "colab": {
          "base_uri": "https://localhost:8080/"
        },
        "outputId": "aec4c8ec-7ab7-4035-80e6-3e9aa305526a"
      },
      "source": [
        "1 + 1"
      ],
      "execution_count": 1,
      "outputs": [
        {
          "output_type": "execute_result",
          "data": {
            "text/plain": [
              "2"
            ]
          },
          "metadata": {},
          "execution_count": 1
        }
      ]
    },
    {
      "cell_type": "markdown",
      "metadata": {
        "id": "B8Jm8OlNnxBO"
      },
      "source": [
        "A shop is 12 metres by 8 metres. Social distancing rules say that there should be no more than 1 person for every 4 square meters. How many people can be in the shop at once?"
      ]
    },
    {
      "cell_type": "code",
      "metadata": {
        "id": "u-YAkdXHorg9"
      },
      "source": [],
      "execution_count": null,
      "outputs": []
    },
    {
      "cell_type": "markdown",
      "metadata": {
        "id": "gQWg9GNDnyDc"
      },
      "source": [
        "A student has received marks for a course. They got:\n",
        "\n",
        "* 75% in the first assignment, which is worth 20% of the course mark\n",
        "* 80% in the second assignment, which is worth 30% of the course mark\n",
        "* 60% in the final exam, which is worth 50% of the course mark\n",
        "\n",
        "What is their overall course mark?"
      ]
    },
    {
      "cell_type": "code",
      "metadata": {
        "id": "SsxQ76EWosFG"
      },
      "source": [],
      "execution_count": null,
      "outputs": []
    },
    {
      "cell_type": "markdown",
      "metadata": {
        "id": "MG-14GJOwXUr"
      },
      "source": [
        "## Python on the Forums\n",
        "\n",
        "You can copy blocks of Python code into a forum post, using the <> button."
      ]
    },
    {
      "cell_type": "markdown",
      "metadata": {
        "id": "K8WHDxJqwalo"
      },
      "source": [
        "## Variables\n",
        "\n",
        "* To some extent, **variables** are comparable to the cells on a spreadsheet.\n",
        "* You can also think of them as a box. With a label on it.\n",
        "* We can put a **value** into a variable. And change it as needed."
      ]
    },
    {
      "cell_type": "markdown",
      "metadata": {
        "id": "wXzRcKCDxEmw"
      },
      "source": [
        "Create a variable."
      ]
    },
    {
      "cell_type": "code",
      "metadata": {
        "id": "uE3HprTDwaQq"
      },
      "source": [],
      "execution_count": null,
      "outputs": []
    },
    {
      "cell_type": "markdown",
      "metadata": {
        "id": "SlpQ9f_3xBy3"
      },
      "source": [
        "Change the value in the variable."
      ]
    },
    {
      "cell_type": "code",
      "metadata": {
        "id": "hcXApHWkxBFt"
      },
      "source": [],
      "execution_count": null,
      "outputs": []
    },
    {
      "cell_type": "markdown",
      "metadata": {
        "id": "E9h80tMqxAfa"
      },
      "source": [
        "Take the value in the variable, add 1 to it, and store it back into the variable."
      ]
    },
    {
      "cell_type": "code",
      "metadata": {
        "id": "B5zOon5sxSQo"
      },
      "source": [],
      "execution_count": null,
      "outputs": []
    },
    {
      "cell_type": "markdown",
      "metadata": {
        "id": "xMU9bIVoShPT"
      },
      "source": [
        "See slides for a step by step of what's happening here."
      ]
    },
    {
      "cell_type": "markdown",
      "metadata": {
        "id": "DbEnqaUnwfZp"
      },
      "source": [
        "## Variable Naming\n",
        "\n",
        "See Code Style Guide on course website."
      ]
    },
    {
      "cell_type": "markdown",
      "metadata": {
        "id": "KhmKoARh8t28"
      },
      "source": [
        "## Order Matters\n",
        "\n",
        "* A computer program is a set of instructions.\n",
        "* Like the method of a recipe, the order in which the instructions are given, and executed, matters.\n",
        "\n",
        "Before running the code below, try and guess the value of x at the end of the program."
      ]
    },
    {
      "cell_type": "markdown",
      "metadata": {
        "id": "I5MdZlSL9Wmx"
      },
      "source": [
        "Guess:\n",
        "\n",
        "Actual:"
      ]
    },
    {
      "cell_type": "code",
      "metadata": {
        "id": "91MT0mX19Hfz",
        "colab": {
          "base_uri": "https://localhost:8080/"
        },
        "outputId": "a46395dc-ae41-484b-d2eb-1c7e515ceacc"
      },
      "source": [
        "x = 0\n",
        "x = x + 1\n",
        "x = 5\n",
        "print(x)"
      ],
      "execution_count": 2,
      "outputs": [
        {
          "output_type": "stream",
          "name": "stdout",
          "text": [
            "5\n"
          ]
        }
      ]
    },
    {
      "cell_type": "markdown",
      "metadata": {
        "id": "QQh8ziTO9Y9N"
      },
      "source": [
        "Guess:\n",
        "\n",
        "Actual:"
      ]
    },
    {
      "cell_type": "code",
      "metadata": {
        "id": "O-hFzb389Hza",
        "colab": {
          "base_uri": "https://localhost:8080/"
        },
        "outputId": "b6974dc1-1129-4c20-def6-e6cb21809ccb"
      },
      "source": [
        "x = 0\n",
        "x = 5\n",
        "x = x + 1\n",
        "print(x)"
      ],
      "execution_count": 3,
      "outputs": [
        {
          "output_type": "stream",
          "name": "stdout",
          "text": [
            "6\n"
          ]
        }
      ]
    },
    {
      "cell_type": "markdown",
      "metadata": {
        "id": "VVcWvNsW0FM5"
      },
      "source": [
        "## Comments\n",
        "\n",
        "* Ignored by the computer\n",
        "* Start with a `#`\n",
        "* Used to help programmers read and understand their code (and make notes for themselves to come back and do things later)"
      ]
    },
    {
      "cell_type": "code",
      "metadata": {
        "id": "SSMZ3kJo0aKI",
        "colab": {
          "base_uri": "https://localhost:8080/"
        },
        "outputId": "90a2a49b-ee15-40f5-c00c-5266dc9a2701"
      },
      "source": [
        "#This is not a comment\n",
        "# this is a comment\n",
        "x=0\n",
        "#x = x + 1\n",
        "print(x)"
      ],
      "execution_count": 7,
      "outputs": [
        {
          "output_type": "stream",
          "name": "stdout",
          "text": [
            "0\n"
          ]
        }
      ]
    },
    {
      "cell_type": "markdown",
      "metadata": {
        "id": "vOBvioy3WDO_"
      },
      "source": [
        "## Learning Programming - What happens if... ?\n",
        "\n",
        "* A big part of programming is \"trying stuff and seeing what works\".\n",
        "* Ask questions.\n",
        "* Investigate.\n",
        "* Optional: Record your answers in your journal."
      ]
    },
    {
      "cell_type": "markdown",
      "metadata": {
        "id": "deE821kTx16Q"
      },
      "source": [
        "# 2 - Strings\n",
        "\n",
        "* A **string** is a sequence of characters.\n",
        "* A **character** is a letter, or space, or piece of punctuation.\n",
        "* Basically, text.\n",
        "* It is held together by quotes."
      ]
    },
    {
      "cell_type": "code",
      "metadata": {
        "id": "yIuLLiVrzDrN",
        "colab": {
          "base_uri": "https://localhost:8080/"
        },
        "outputId": "1aee1e5a-e624-4700-edf0-d92d0fc0e973"
      },
      "source": [
        "eg_1 = \"This is a string.\"\n",
        "print(eg_1)\n",
        "eg_2 = 'This is another string.'\n",
        "print(eg_2)"
      ],
      "execution_count": 8,
      "outputs": [
        {
          "output_type": "stream",
          "name": "stdout",
          "text": [
            "This is a string.\n",
            "This is another string.\n"
          ]
        }
      ]
    },
    {
      "cell_type": "markdown",
      "metadata": {
        "id": "g8GMlICtykMa"
      },
      "source": [
        "What happens if we want to have quotes inside our string?"
      ]
    },
    {
      "cell_type": "code",
      "metadata": {
        "id": "422x2l-ByXdy",
        "colab": {
          "base_uri": "https://localhost:8080/"
        },
        "outputId": "4399f9c7-2e5a-4455-9912-f18505a05377"
      },
      "source": [
        "quotes_inside_string = \"Single quotes 'inside' my string.\"\n",
        "print(quotes_inside_string)\n",
        "quotes_inside_string = 'Double quotes \"inside\" my string.'\n",
        "print(quotes_inside_string)"
      ],
      "execution_count": 9,
      "outputs": [
        {
          "output_type": "stream",
          "name": "stdout",
          "text": [
            "Single quotes 'inside' my string.\n",
            "Double quotes \"inside\" my string.\n"
          ]
        }
      ]
    },
    {
      "cell_type": "markdown",
      "metadata": {
        "id": "XeeAo1AkznrP"
      },
      "source": [
        "How can we make this work?"
      ]
    },
    {
      "cell_type": "code",
      "metadata": {
        "id": "7Z4XzLw1zpJh",
        "colab": {
          "base_uri": "https://localhost:8080/"
        },
        "outputId": "7530e20f-e1a9-4adc-cc49-9feb168514ed"
      },
      "source": [
        "quotes_inside_string = \"Example of \\\"double quotes\\\" inside double quoted string.\"\n",
        "print(quotes_inside_string)"
      ],
      "execution_count": 10,
      "outputs": [
        {
          "output_type": "stream",
          "name": "stdout",
          "text": [
            "Example of \"double quotes\" inside double quoted string.\n"
          ]
        }
      ]
    },
    {
      "cell_type": "markdown",
      "source": [
        "What if we want to display: dad's dog said \"bark bark\""
      ],
      "metadata": {
        "id": "nh52xveV1dd6"
      }
    },
    {
      "cell_type": "code",
      "source": [
        "text = 'dad\\'s dog said \"bark bark\"'\n",
        "print(text)"
      ],
      "metadata": {
        "colab": {
          "base_uri": "https://localhost:8080/"
        },
        "id": "-063WyFm1by8",
        "outputId": "d40d1d7b-53c5-483e-83c4-1de44452c4ad"
      },
      "execution_count": 18,
      "outputs": [
        {
          "output_type": "stream",
          "name": "stdout",
          "text": [
            "dad's dog said \"bark bark\"\n"
          ]
        }
      ]
    },
    {
      "cell_type": "code",
      "source": [
        "text = \"dad's dog said \\\"bark bark\\\"\"\n",
        "print(text)"
      ],
      "metadata": {
        "colab": {
          "base_uri": "https://localhost:8080/"
        },
        "id": "gA-vo29w1mNT",
        "outputId": "ea11d7d2-cdd2-4e11-a922-e60703f3b419"
      },
      "execution_count": 19,
      "outputs": [
        {
          "output_type": "stream",
          "name": "stdout",
          "text": [
            "dad's dog said \"bark bark\"\n"
          ]
        }
      ]
    },
    {
      "cell_type": "markdown",
      "metadata": {
        "id": "P_SG9SiKzSBj"
      },
      "source": [
        "What happens if we try to add strings together?"
      ]
    },
    {
      "cell_type": "code",
      "metadata": {
        "id": "WzVcM1RzzSuX",
        "colab": {
          "base_uri": "https://localhost:8080/"
        },
        "outputId": "63a8a500-f511-4ba1-9f6f-c30f95364418"
      },
      "source": [
        "print(\"hello \"+\"there\")\n",
        "str_1 = \"something \"\n",
        "str_2 = \"interesting\"\n",
        "print(str_1 + str_2)"
      ],
      "execution_count": 12,
      "outputs": [
        {
          "output_type": "stream",
          "name": "stdout",
          "text": [
            "hello there\n",
            "something interesting\n"
          ]
        }
      ]
    },
    {
      "cell_type": "markdown",
      "metadata": {
        "id": "Ns0ewWPwSRJv"
      },
      "source": [
        "What happens if we try to multiply a string by a number?"
      ]
    },
    {
      "cell_type": "code",
      "metadata": {
        "id": "DDvD6n88SWIw",
        "colab": {
          "base_uri": "https://localhost:8080/"
        },
        "outputId": "ad632cd5-16ba-4925-8ca8-57c198ac3cff"
      },
      "source": [
        "print(\"hello \" * 5)"
      ],
      "execution_count": 13,
      "outputs": [
        {
          "output_type": "stream",
          "name": "stdout",
          "text": [
            "hello hello hello hello hello \n"
          ]
        }
      ]
    },
    {
      "cell_type": "markdown",
      "metadata": {
        "id": "B7pFKvdMSkO0"
      },
      "source": [
        "What happens if we try to multiply a string by a string?"
      ]
    },
    {
      "cell_type": "code",
      "metadata": {
        "id": "DNakhfwTSj11",
        "colab": {
          "base_uri": "https://localhost:8080/",
          "height": 168
        },
        "outputId": "d42ba10c-fb45-4369-e337-b29803123a0b"
      },
      "source": [
        "print(\"hello \" * 'something else')"
      ],
      "execution_count": 15,
      "outputs": [
        {
          "output_type": "error",
          "ename": "TypeError",
          "evalue": "ignored",
          "traceback": [
            "\u001b[0;31m---------------------------------------------------------------------------\u001b[0m",
            "\u001b[0;31mTypeError\u001b[0m                                 Traceback (most recent call last)",
            "\u001b[0;32m<ipython-input-15-1ba27d805155>\u001b[0m in \u001b[0;36m<module>\u001b[0;34m\u001b[0m\n\u001b[0;32m----> 1\u001b[0;31m \u001b[0mprint\u001b[0m\u001b[0;34m(\u001b[0m\u001b[0;34m\"hello \"\u001b[0m \u001b[0;34m*\u001b[0m \u001b[0;34m'something else'\u001b[0m\u001b[0;34m)\u001b[0m\u001b[0;34m\u001b[0m\u001b[0;34m\u001b[0m\u001b[0m\n\u001b[0m",
            "\u001b[0;31mTypeError\u001b[0m: can't multiply sequence by non-int of type 'str'"
          ]
        }
      ]
    },
    {
      "cell_type": "markdown",
      "metadata": {
        "id": "l9sSuvhGSwIT"
      },
      "source": [
        "Can we extract individual characters?"
      ]
    },
    {
      "cell_type": "code",
      "metadata": {
        "id": "m_7sBju4TCSO",
        "colab": {
          "base_uri": "https://localhost:8080/"
        },
        "outputId": "ac8c17a7-1873-4b68-a5f9-0c35ffea716d"
      },
      "source": [
        "str_1 = \"hello\"\n",
        "print(str_1[1])"
      ],
      "execution_count": 16,
      "outputs": [
        {
          "output_type": "stream",
          "name": "stdout",
          "text": [
            "e\n"
          ]
        }
      ]
    },
    {
      "cell_type": "markdown",
      "source": [
        "Can we change individual characters?"
      ],
      "metadata": {
        "id": "nFhupSq81HaP"
      }
    },
    {
      "cell_type": "code",
      "source": [
        "str_1[1] = 'p'"
      ],
      "metadata": {
        "colab": {
          "base_uri": "https://localhost:8080/",
          "height": 168
        },
        "id": "B6Uf8DoO1HEA",
        "outputId": "daa867bb-c5d5-4f93-83f0-e2ce6c9649ac"
      },
      "execution_count": 17,
      "outputs": [
        {
          "output_type": "error",
          "ename": "TypeError",
          "evalue": "ignored",
          "traceback": [
            "\u001b[0;31m---------------------------------------------------------------------------\u001b[0m",
            "\u001b[0;31mTypeError\u001b[0m                                 Traceback (most recent call last)",
            "\u001b[0;32m<ipython-input-17-608ef44e3bb2>\u001b[0m in \u001b[0;36m<module>\u001b[0;34m\u001b[0m\n\u001b[0;32m----> 1\u001b[0;31m \u001b[0mstr_1\u001b[0m\u001b[0;34m[\u001b[0m\u001b[0;36m1\u001b[0m\u001b[0;34m]\u001b[0m \u001b[0;34m=\u001b[0m \u001b[0;34m'p'\u001b[0m\u001b[0;34m\u001b[0m\u001b[0;34m\u001b[0m\u001b[0m\n\u001b[0m",
            "\u001b[0;31mTypeError\u001b[0m: 'str' object does not support item assignment"
          ]
        }
      ]
    },
    {
      "cell_type": "markdown",
      "metadata": {
        "id": "ftNEXaeHUlw5"
      },
      "source": [
        "* Strings are a sequence of characters (or **elements**).\n",
        "* Each character in the sequence has a number, this number is often referred to as the **index**.\n",
        "* When we talk about sequences, each **element** has an **index**.\n",
        "* You can also think of a string as a street with lots of houses.\n",
        "  * The string's name is the name of the street.\n",
        "  * The **index** is the house number.\n",
        "  * The **element** (or character) is who lives there.\n",
        "\n",
        " <img width=\"40%\" src=\"https://i.imgur.com/FuUEFhA.png\" />"
      ]
    },
    {
      "cell_type": "markdown",
      "metadata": {
        "id": "CRQgX47vM5nU"
      },
      "source": [
        "## What is wrong with programmers?\n",
        "\n",
        "<img width=\"40%\" src=\"https://i.imgur.com/NSxLS8D.png\" />\n",
        "\n",
        "Important info:\n",
        "\n",
        "* Programmers start counting from 0\n",
        "* This is a common source of errors for new programmers"
      ]
    },
    {
      "cell_type": "markdown",
      "source": [
        "If there is a num in the str after extracting, what type will it be?"
      ],
      "metadata": {
        "id": "TqyApQ-s1zYG"
      }
    },
    {
      "cell_type": "code",
      "source": [
        "text = \"h78yu\"\n",
        "num_part_of_text = text[1:3]\n",
        "print(num_part_of_text)\n",
        "print(type(num_part_of_text))"
      ],
      "metadata": {
        "colab": {
          "base_uri": "https://localhost:8080/"
        },
        "id": "KuO-agCG13w2",
        "outputId": "71e6347d-424d-4abf-e2db-dc44a7052424"
      },
      "execution_count": 21,
      "outputs": [
        {
          "output_type": "stream",
          "name": "stdout",
          "text": [
            "78\n",
            "<class 'str'>\n"
          ]
        }
      ]
    },
    {
      "cell_type": "markdown",
      "metadata": {
        "id": "6uBUEwM2UaHc"
      },
      "source": [
        "## Back to Strings"
      ]
    },
    {
      "cell_type": "code",
      "source": [
        "example = \"something interesting\""
      ],
      "metadata": {
        "id": "4gTtKGXn1Tbf"
      },
      "execution_count": 23,
      "outputs": []
    },
    {
      "cell_type": "markdown",
      "metadata": {
        "id": "uasiOS9wUdNL"
      },
      "source": [
        "Can we extract parts of strings?"
      ]
    },
    {
      "cell_type": "code",
      "metadata": {
        "id": "2mMKFhcbUgKb",
        "colab": {
          "base_uri": "https://localhost:8080/"
        },
        "outputId": "12b95f60-76fa-4b28-d44a-f6af7ba83b67"
      },
      "source": [
        "print(example[5])"
      ],
      "execution_count": 24,
      "outputs": [
        {
          "output_type": "stream",
          "name": "stdout",
          "text": [
            "h\n"
          ]
        }
      ]
    },
    {
      "cell_type": "code",
      "source": [
        "print(example[1:4])"
      ],
      "metadata": {
        "colab": {
          "base_uri": "https://localhost:8080/"
        },
        "id": "c4LvDUPI2P2B",
        "outputId": "2916287a-112b-4801-ab64-4427d03eeec7"
      },
      "execution_count": 25,
      "outputs": [
        {
          "output_type": "stream",
          "name": "stdout",
          "text": [
            "ome\n"
          ]
        }
      ]
    },
    {
      "cell_type": "markdown",
      "metadata": {
        "id": "qaBmGTxrUf1r"
      },
      "source": [
        "What happens if we put a negative number in as the index?"
      ]
    },
    {
      "cell_type": "code",
      "metadata": {
        "id": "War6Wm7lV9Wl",
        "colab": {
          "base_uri": "https://localhost:8080/"
        },
        "outputId": "1dfe3e9e-2ac1-4889-da58-c0ac17f73a75"
      },
      "source": [
        "print(example[-1])"
      ],
      "execution_count": 26,
      "outputs": [
        {
          "output_type": "stream",
          "name": "stdout",
          "text": [
            "g\n"
          ]
        }
      ]
    },
    {
      "cell_type": "code",
      "source": [
        "print(example[-5:-4])"
      ],
      "metadata": {
        "colab": {
          "base_uri": "https://localhost:8080/"
        },
        "id": "uJ6zqaq12hAT",
        "outputId": "9a600a6b-c58c-40f7-b1da-91dc3820d498"
      },
      "execution_count": 27,
      "outputs": [
        {
          "output_type": "stream",
          "name": "stdout",
          "text": [
            "s\n"
          ]
        }
      ]
    },
    {
      "cell_type": "markdown",
      "metadata": {
        "id": "JzPhzMxp6rAr"
      },
      "source": [
        "Can we get the length of a string?"
      ]
    },
    {
      "cell_type": "code",
      "metadata": {
        "id": "cc5vOO5G6wHz"
      },
      "source": [],
      "execution_count": null,
      "outputs": []
    },
    {
      "cell_type": "markdown",
      "metadata": {
        "id": "sxobJv-Y8dlW"
      },
      "source": [
        "Can we count the number of e's in a string?"
      ]
    },
    {
      "cell_type": "code",
      "metadata": {
        "id": "8kE89xQQ9fgE"
      },
      "source": [],
      "execution_count": null,
      "outputs": []
    },
    {
      "cell_type": "markdown",
      "metadata": {
        "id": "26pq6sCa9f1D"
      },
      "source": [
        "Can we replace the the e's with a's?"
      ]
    },
    {
      "cell_type": "code",
      "metadata": {
        "id": "apa0ykn_AKjk"
      },
      "source": [],
      "execution_count": null,
      "outputs": []
    },
    {
      "cell_type": "markdown",
      "metadata": {
        "id": "IhVg7mInnDuk"
      },
      "source": [
        "### Obfuscation\n",
        "Solve the problem described in this text.\n",
        "\n",
        "> Oh no, somaona hes dona somathing tarribla to my writing. Thay'va sweppad eround tha lattar 'e' end tha lattar 'a'\n",
        "\n"
      ]
    },
    {
      "cell_type": "code",
      "metadata": {
        "id": "fI2wrdtWnMZ5"
      },
      "source": [],
      "execution_count": null,
      "outputs": []
    },
    {
      "cell_type": "markdown",
      "metadata": {
        "id": "pVufceYcpugu"
      },
      "source": [
        "# 3 - Functions and Methods"
      ]
    },
    {
      "cell_type": "markdown",
      "metadata": {
        "id": "clMhQF4k6wx-"
      },
      "source": [
        "## Aside: Functions vs Methods\n",
        "\n",
        "Functions:\n",
        "* **len** is one of the **built-in functions** in Python\n",
        "* other built-in functions can be found [here](https://www.w3schools.com/python/python_ref_functions.asp)\n",
        "* to call (use) a function: `function_name(variable)`\n",
        "* functions either display or return a value\n",
        "\n",
        "Methods:\n",
        "* **count** is one of the methods which can be executed on a string in Python\n",
        "* other string methods can be found [here](https://www.w3schools.com/python/python_ref_string.asp)\n",
        "* to call (use) a method: `variable.function_name()` or `variable.function_name(other, parameters, here)`"
      ]
    },
    {
      "cell_type": "markdown",
      "metadata": {
        "id": "g-n6ohsr-2Z_"
      },
      "source": [
        "## Storing the Results of a Function or Method Call"
      ]
    },
    {
      "cell_type": "markdown",
      "metadata": {
        "id": "PjPzefX1_AX4"
      },
      "source": [
        "Can we get the length of a string and store it in a variable?"
      ]
    },
    {
      "cell_type": "code",
      "metadata": {
        "id": "SKlkLvgb_EH_"
      },
      "source": [],
      "execution_count": null,
      "outputs": []
    },
    {
      "cell_type": "markdown",
      "metadata": {
        "id": "dw3cCmbJ_Ear"
      },
      "source": [
        "Can we count the number of e's in a string and store it in a variable?"
      ]
    },
    {
      "cell_type": "code",
      "metadata": {
        "id": "LBtV3WHX_H-o"
      },
      "source": [],
      "execution_count": null,
      "outputs": []
    },
    {
      "cell_type": "code",
      "metadata": {
        "id": "FN0TXEC95iyW"
      },
      "source": [],
      "execution_count": null,
      "outputs": []
    },
    {
      "cell_type": "markdown",
      "metadata": {
        "id": "2vG33InB4wPG"
      },
      "source": [
        "# 4 - Printing Literals and Variables\n",
        "\n",
        "* Until now we could only display one thing at the end of each code block.\n",
        "* To display more frequently, we can use the `print()` function.\n",
        "* `print()` is a built-in function, so the \"stuff to print\" goes inside the brackets.\n"
      ]
    },
    {
      "cell_type": "code",
      "metadata": {
        "id": "NyiNJbCQAVE8"
      },
      "source": [],
      "execution_count": null,
      "outputs": []
    },
    {
      "cell_type": "markdown",
      "metadata": {
        "id": "ULFZC2P1AfCY"
      },
      "source": [
        "# 5 - Special Characters\n",
        "\n"
      ]
    },
    {
      "cell_type": "markdown",
      "metadata": {
        "id": "D0qihz2Ru_ba"
      },
      "source": [
        "Strings can contain special characters that either can't be visualised or can't be typed on most keyboards.\n",
        "\n",
        "These include:\n",
        "* The \"newline\" character.\n",
        "  * Indicates that any characters after it should go on a new line.\n",
        "  * Written as \"\\n\"\n",
        "* Characters from alphabets other than the \"latin\" alphabet.\n",
        "* Emoji!\n",
        "  * Written as \"\\N{name of the emoji}\"\n",
        "  * You can look up names [here](https://emojipedia.org)"
      ]
    },
    {
      "cell_type": "markdown",
      "metadata": {
        "id": "1R2lqXZXBDaW"
      },
      "source": [
        "Can we create a string with this box in it?\n",
        "\n",
        "```\n",
        "+-----+\n",
        "|     |\n",
        "|     |\n",
        "|     |\n",
        "+-----+\n",
        "```"
      ]
    },
    {
      "cell_type": "code",
      "metadata": {
        "id": "xzOzW8jQBFPm"
      },
      "source": [],
      "execution_count": null,
      "outputs": []
    },
    {
      "cell_type": "markdown",
      "metadata": {
        "id": "vuYuvdUB_RdE"
      },
      "source": [
        "What if we actually want to print \"\\n\"?"
      ]
    },
    {
      "cell_type": "code",
      "metadata": {
        "id": "lb51dsvu_XnK"
      },
      "source": [],
      "execution_count": null,
      "outputs": []
    },
    {
      "cell_type": "markdown",
      "metadata": {
        "id": "gC5bW8iN_alR"
      },
      "source": [
        "Can we take a string with spaces between the words, and change it so that each word appears on a different line?"
      ]
    },
    {
      "cell_type": "code",
      "metadata": {
        "id": "uOvJsRlMAWlj"
      },
      "source": [],
      "execution_count": null,
      "outputs": []
    },
    {
      "cell_type": "markdown",
      "metadata": {
        "id": "1z-ORJW1_kIp"
      },
      "source": [
        "Can we change it back?"
      ]
    },
    {
      "cell_type": "code",
      "metadata": {
        "id": "9zyVMm9kAXHk"
      },
      "source": [],
      "execution_count": null,
      "outputs": []
    },
    {
      "cell_type": "markdown",
      "metadata": {
        "id": "lWLq3uupBIUe"
      },
      "source": [
        "Can we describe 2020 with Emoji?"
      ]
    },
    {
      "cell_type": "code",
      "metadata": {
        "id": "_OtIm8NRI1AY"
      },
      "source": [],
      "execution_count": null,
      "outputs": []
    },
    {
      "cell_type": "markdown",
      "metadata": {
        "id": "RASu1vuRz8Bf"
      },
      "source": [
        "# 6 - Data Types\n",
        "\n",
        "* Each variable has a **data type**.\n",
        "* So far we have looked at **ints** (numbers) and **strings** (text).\n",
        "* The type of the variable determines its behaviour. (Eg the difference between adding two ints together, or adding two strings together.)\n",
        "* A list of data types in Python can be found here: [https://www.w3schools.com/python/python_datatypes.asp](https://www.w3schools.com/python/python_datatypes.asp)"
      ]
    },
    {
      "cell_type": "markdown",
      "metadata": {
        "id": "oFgEchGk0inf"
      },
      "source": [
        "Given a variable can we find out it's data type?"
      ]
    },
    {
      "cell_type": "code",
      "metadata": {
        "id": "esPqHWBi0nDF"
      },
      "source": [],
      "execution_count": null,
      "outputs": []
    },
    {
      "cell_type": "markdown",
      "metadata": {
        "id": "vzOFenKi1LZs"
      },
      "source": [
        "What happens when we try to add two values together, when they are of different types?"
      ]
    },
    {
      "cell_type": "code",
      "metadata": {
        "id": "1MObB3dB1K91"
      },
      "source": [],
      "execution_count": null,
      "outputs": []
    },
    {
      "cell_type": "markdown",
      "metadata": {
        "id": "QCJuEgL01csp"
      },
      "source": [
        "Can we change the type of a variable?"
      ]
    },
    {
      "cell_type": "code",
      "metadata": {
        "id": "LmGWAsqT2OXj"
      },
      "source": [],
      "execution_count": null,
      "outputs": []
    },
    {
      "cell_type": "markdown",
      "metadata": {
        "id": "uHWmiGBz385u"
      },
      "source": [
        "Changing the type of a variable is called **casting**. We can cast variables to different types, as long as they can be converted.\n",
        "\n",
        "What happens if we try to cast a variable to a type it is incompatible with?"
      ]
    },
    {
      "cell_type": "code",
      "metadata": {
        "id": "t54J_n2M4OJR"
      },
      "source": [],
      "execution_count": null,
      "outputs": []
    },
    {
      "cell_type": "markdown",
      "metadata": {
        "id": "6BnpalugR263"
      },
      "source": [
        "Can you combine strings and variables of different data types in a `print()` statement without casting?"
      ]
    },
    {
      "cell_type": "code",
      "metadata": {
        "id": "PVNiAWCJSA1F"
      },
      "source": [],
      "execution_count": null,
      "outputs": []
    },
    {
      "cell_type": "markdown",
      "metadata": {
        "id": "lHezovahucUF"
      },
      "source": [
        "Fill in the following summary of data types:\n",
        "\n",
        "\n",
        "Data Type | Declaration Examples | Printing Examples\n",
        "---|---|---\n",
        " | |\n",
        " | |\n",
        " | |\n",
        "\n"
      ]
    },
    {
      "cell_type": "markdown",
      "metadata": {
        "id": "aTFCzqGnuAGB"
      },
      "source": [
        "# 7 - F-Strings"
      ]
    },
    {
      "cell_type": "markdown",
      "metadata": {
        "id": "IilEe6SRSsY4"
      },
      "source": [
        "More information about f-strings can be found [here](https://realpython.com/python-f-strings/#f-strings-a-new-and-improved-way-to-format-strings-in-python)."
      ]
    },
    {
      "cell_type": "markdown",
      "metadata": {
        "id": "WJnJ8M7GuGs6"
      },
      "source": []
    },
    {
      "cell_type": "markdown",
      "metadata": {
        "id": "TKpGsue7Mi2z"
      },
      "source": [
        "# 8 - Modulo Operator\n",
        "\n",
        "So far we have covered +, -, *, / with integers.\n",
        "\n",
        "The modulo operator, %, returns the remainder when we divide by a number."
      ]
    },
    {
      "cell_type": "code",
      "metadata": {
        "id": "4xeXpFrqNDqE"
      },
      "source": [],
      "execution_count": null,
      "outputs": []
    }
  ]
}